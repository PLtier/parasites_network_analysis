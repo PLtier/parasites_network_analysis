{
 "cells": [
  {
   "cell_type": "code",
   "execution_count": 2,
   "metadata": {},
   "outputs": [],
   "source": [
    "\n",
    "import pandas as pd\n",
    "\n",
    "\n",
    "RA_NAIVE_THRESHOLD_1 = 0.034999999999999996\n",
    "RA_NAIVE_THRESHOLD_2 = 0.01745\n",
    "### TRIM\n",
    "df = pd.read_csv('../projections_with_backbonings/projection_parasites/resource_allocation_naive.csv')\n",
    "ra_naive1 = df[df['score']>RA_NAIVE_THRESHOLD_1]\n",
    "ra_naive2 = df[df['score']>RA_NAIVE_THRESHOLD_2]\n",
    "\n",
    "SIMPLE_DPF_THRESHOLD_1 = 0.5000000000000003\n",
    "SIMPLE_DPF_THRESHOLD_2 = 0.5799999999999986\n",
    "### TRIM\n",
    "df = pd.read_csv('../projections_with_backbonings/projection_parasites/simple_disparity_filter.csv')\n",
    "simple_dpf_1 = df[df['score']>SIMPLE_DPF_THRESHOLD_1]\n",
    "simple_dpf_2 = df[df['score']>SIMPLE_DPF_THRESHOLD_2]\n",
    "\n",
    "\n",
    "simple_dpf_1.to_csv('../data/trimmed_network_projections/1_simple_disparity_filter.csv', index=False)\n",
    "simple_dpf_2.to_csv('../data/trimmed_network_projections/2_simple_disparity_filter.csv', index=False)\n",
    "ra_naive1.to_csv('../data/trimmed_network_projections/1_resource_allocation_naive.csv', index=False)\n",
    "ra_naive2.to_csv('../data/trimmed_network_projections/2_resource_allocation_naive.csv', index=False)\n"
   ]
  }
 ],
 "metadata": {
  "kernelspec": {
   "display_name": "Python 3.12.7 ('networks')",
   "language": "python",
   "name": "python3"
  },
  "language_info": {
   "codemirror_mode": {
    "name": "ipython",
    "version": 3
   },
   "file_extension": ".py",
   "mimetype": "text/x-python",
   "name": "python",
   "nbconvert_exporter": "python",
   "pygments_lexer": "ipython3",
   "version": "3.12.7"
  },
  "vscode": {
   "interpreter": {
    "hash": "f70ee9fc3775fd3d36e8901c14f43724809d6b0598125e9f8a1ecf3295db15b5"
   }
  }
 },
 "nbformat": 4,
 "nbformat_minor": 2
}
