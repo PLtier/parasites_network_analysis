{
 "cells": [
  {
   "cell_type": "code",
   "execution_count": 99,
   "metadata": {},
   "outputs": [],
   "source": [
    "import networkx as nx\n",
    "import numpy as np\n",
    "import pandas as pd"
   ]
  },
  {
   "cell_type": "code",
   "execution_count": 100,
   "metadata": {},
   "outputs": [
    {
     "data": {
      "text/plain": [
       "Index(['Unnamed: 0.1', 'Unnamed: 0', 'Host', 'Parasite', 'ParasiteFull',\n",
       "       'group', 'locality', 'hostgroup', 'animal_nodes', 'parasites_nodes'],\n",
       "      dtype='object')"
      ]
     },
     "execution_count": 100,
     "metadata": {},
     "output_type": "execute_result"
    }
   ],
   "source": [
    "df = pd.read_csv('./full_data.csv')\n",
    "df.columns"
   ]
  },
  {
   "cell_type": "markdown",
   "metadata": {},
   "source": [
    "Below is the ready code for the projection without lossing any metadata."
   ]
  },
  {
   "cell_type": "code",
   "execution_count": 101,
   "metadata": {},
   "outputs": [],
   "source": [
    "G = nx.Graph()\n",
    "\n",
    "for i, el in df.iterrows():\n",
    "    if G.has_node(el['Parasite']):\n",
    "        G.add_node(el['Parasite'], bipartite=0)\n",
    "    if G.has_node(el['Host']):\n",
    "        G.nodes[el['Host']]['locality'].add(el['locality'])\n",
    "        G.nodes[el['Host']]['para_group'].add(el['group'])\n",
    "    else:\n",
    "        locality = set()\n",
    "        locality.add(el['locality'])\n",
    "        para_group = set()\n",
    "        para_group.add(el['group'])\n",
    "        G.add_node(el['Host'], bipartite=1, host_group=el['hostgroup'], para_group=para_group, locality=locality)\n",
    "    if not G.has_edge(el['Host'], el['Parasite']):\n",
    "        G.add_edge(el['Host'], el['Parasite'], )\n",
    "    "
   ]
  },
  {
   "cell_type": "code",
   "execution_count": 102,
   "metadata": {},
   "outputs": [
    {
     "name": "stdout",
     "output_type": "stream",
     "text": [
      "5870\n"
     ]
    }
   ],
   "source": [
    "# average resource allocation bipartite projection for host nodes\n",
    "# ProbS you multiply the stochastic with a stochastic version of the transpose. then get (wu,v + wv,u)/2\n",
    "# code below:\n",
    "\n",
    "bipartite_one_nodes = [ n for n, d in G.nodes(data=True) if d.get('bipartite') == 1]\n",
    "print(len(bipartite_one_nodes))\n",
    "badj = nx.bipartite.biadjacency_matrix(G, row_order=sorted(bipartite_one_nodes)).toarray()"
   ]
  },
  {
   "cell_type": "code",
   "execution_count": 103,
   "metadata": {},
   "outputs": [],
   "source": [
    "# stochastic adj matrix\n",
    "A = badj / badj.sum(axis=1)[:, np.newaxis]\n",
    "At = badj.T / badj.T.sum(axis=1)[:, np.newaxis]\n",
    "weights = A @ At"
   ]
  },
  {
   "cell_type": "code",
   "execution_count": 104,
   "metadata": {},
   "outputs": [],
   "source": [
    "# now we have directional weights, we need to get the average\n",
    "resource_allocation_weights = (weights + weights.T) / 2\n"
   ]
  },
  {
   "cell_type": "code",
   "execution_count": 105,
   "metadata": {},
   "outputs": [
    {
     "data": {
      "text/plain": [
       "True"
      ]
     },
     "execution_count": 105,
     "metadata": {},
     "output_type": "execute_result"
    }
   ],
   "source": [
    "np.allclose(resource_allocation_weights, resource_allocation_weights.T)"
   ]
  },
  {
   "cell_type": "code",
   "execution_count": 106,
   "metadata": {},
   "outputs": [
    {
     "name": "stdout",
     "output_type": "stream",
     "text": [
      "34006684\n"
     ]
    }
   ],
   "source": [
    "# compute the number of zero entries\n",
    "print(np.count_nonzero(resource_allocation_weights == 0))"
   ]
  },
  {
   "cell_type": "code",
   "execution_count": 107,
   "metadata": {},
   "outputs": [
    {
     "data": {
      "text/plain": [
       "(5870, 1)"
      ]
     },
     "execution_count": 107,
     "metadata": {},
     "output_type": "execute_result"
    }
   ],
   "source": [
    "mean_weight[:, np.newaxis].shape"
   ]
  },
  {
   "cell_type": "markdown",
   "metadata": {},
   "source": [
    "SELF LOOPS, are we care about them? not much tbh, we can remove them later."
   ]
  },
  {
   "cell_type": "code",
   "execution_count": 108,
   "metadata": {},
   "outputs": [
    {
     "data": {
      "text/plain": [
       "array([[0.67559975, 0.        , 0.        , ..., 0.        , 0.        ,\n",
       "        0.        ],\n",
       "       [0.        , 0.08333333, 0.        , ..., 0.        , 0.        ,\n",
       "        0.        ],\n",
       "       [0.        , 0.        , 0.07692308, ..., 0.        , 0.        ,\n",
       "        0.        ],\n",
       "       ...,\n",
       "       [0.        , 0.        , 0.        , ..., 1.        , 0.        ,\n",
       "        0.        ],\n",
       "       [0.        , 0.        , 0.        , ..., 0.        , 0.33333333,\n",
       "        0.33333333],\n",
       "       [0.        , 0.        , 0.        , ..., 0.        , 0.33333333,\n",
       "        0.33333333]])"
      ]
     },
     "execution_count": 108,
     "metadata": {},
     "output_type": "execute_result"
    }
   ],
   "source": [
    "# do the noise corrected disparity filter\n",
    "# for each\n",
    "mean_weight = resource_allocation_weights.mean(axis=1)\n",
    "disparity_filter = (mean_weight[:, np.newaxis] + mean_weight[np.newaxis, :]) / 2\n",
    "\n",
    "# where the values are below the disparity filter, set to zero\n",
    "filtered_weights = resource_allocation_weights.copy()\n",
    "filtered_weights[resource_allocation_weights < disparity_filter] = 0\n",
    "filtered_weights"
   ]
  },
  {
   "cell_type": "code",
   "execution_count": 109,
   "metadata": {},
   "outputs": [
    {
     "name": "stdout",
     "output_type": "stream",
     "text": [
      "34030846\n"
     ]
    },
    {
     "data": {
      "text/plain": [
       "(5870, 5870)"
      ]
     },
     "execution_count": 109,
     "metadata": {},
     "output_type": "execute_result"
    }
   ],
   "source": [
    "# compute the number of zero entries\n",
    "print(np.count_nonzero(filtered_weights == 0))\n",
    "filtered_weights.shape"
   ]
  },
  {
   "cell_type": "code",
   "execution_count": null,
   "metadata": {},
   "outputs": [],
   "source": []
  }
 ],
 "metadata": {
  "kernelspec": {
   "display_name": "base",
   "language": "python",
   "name": "python3"
  },
  "language_info": {
   "codemirror_mode": {
    "name": "ipython",
    "version": 3
   },
   "file_extension": ".py",
   "mimetype": "text/x-python",
   "name": "python",
   "nbconvert_exporter": "python",
   "pygments_lexer": "ipython3",
   "version": "3.11.5"
  }
 },
 "nbformat": 4,
 "nbformat_minor": 2
}
