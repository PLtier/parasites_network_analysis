{
 "cells": [
  {
   "cell_type": "code",
   "execution_count": 10,
   "metadata": {},
   "outputs": [],
   "source": [
    "import os\n",
    "import sys\n",
    "import numpy as np\n",
    "import networkx as nx\n",
    "import pandas as pd\n",
    "sys.path.append(os.path.join(os.getcwd(), 'data'))\n",
    "from common_localities import locality_to_common_locality\n",
    "\n",
    "\n",
    "nodes_df = pd.read_csv(\"../data/nodes.csv\", index_col=0)\n",
    "edge_df = pd.read_csv(\"../data/edges.csv\")\n",
    "parasites_df = nodes_df[nodes_df[\" is_host\"] == 0]\n",
    "\n",
    "\n",
    "G = nx.Graph()\n",
    "for id_parasite, parasite in parasites_df.iterrows():\n",
    "    animals_idx = list(edge_df[edge_df[\" target\"] == id_parasite][\"# source\"]) + list(\n",
    "        edge_df[edge_df[\"# source\"] == id_parasite][\" target\"]\n",
    "    )\n",
    "    # so unfortunately, we have parasites group assigned to animals rows, and vice versa.\n",
    "    # so, unfortunately, we don't know how they decided on this assignment.\n",
    "    # also, unfortunately, as opposed to original data: there is no info on more groups!\n",
    "    most_frequent_locality, most_frequent_parasite_group = nodes_df.loc[animals_idx][[' locality', ' group']].mode().loc[0]\n",
    "    most_frequent_locality = locality_to_common_locality[most_frequent_locality]\n",
    "    animals_group = parasite[' group']\n",
    "    G.add_node(\n",
    "        id_parasite,\n",
    "        name=parasite[' name'],\n",
    "        most_frequent_locality=most_frequent_locality,\n",
    "        most_frequent_parasite_group=most_frequent_parasite_group,\n",
    "        animals_group=animals_group\n",
    "    )\n",
    "    \n",
    "# two steps:\n",
    "# first create nods with attributes only and then connect them\n",
    " "
   ]
  },
  {
   "cell_type": "code",
   "execution_count": 12,
   "metadata": {},
   "outputs": [
    {
     "name": "stdout",
     "output_type": "stream",
     "text": [
      "Loaded dataframes: ['1_simple_disparity_filter.csv', '2_simple_disparity_filter.csv', 'resource_allocation_naive.csv']\n",
      "Number of edges added: 443701\n",
      "Number of edges added: 336278\n",
      "Number of edges added: 15588\n"
     ]
    }
   ],
   "source": [
    "import os\n",
    "\n",
    "# Directory containing the CSV files\n",
    "directory = '../data/trimmed_networks'\n",
    "\n",
    "# Dictionary to store dataframes\n",
    "dataframes = {}\n",
    "\n",
    "# Iterate through the files in the directory\n",
    "for filename in os.listdir(directory):\n",
    "    if filename.endswith('.csv'):\n",
    "        filepath = os.path.join(directory, filename)\n",
    "        df = pd.read_csv(filepath)\n",
    "        dataframes[filename] = df\n",
    "\n",
    "# Print the names of the loaded dataframes\n",
    "print(\"Loaded dataframes:\", list(dataframes.keys()))\n",
    "\n",
    "\n",
    "# Create a copy of graph G\n",
    "\n",
    "# Iterate through each dataframe in the dictionary\n",
    "for filename, df in dataframes.items():\n",
    "    G_copy = G.copy()\n",
    "    # Iterate through each row in the dataframe\n",
    "    for _, row in df.iterrows():\n",
    "        src = row['src']\n",
    "        trg = row['trg']\n",
    "        # Add edge if src and trg are not the same (no self loop)\n",
    "        if src != trg:\n",
    "            G_copy.add_edge(src, trg)\n",
    "\n",
    "    # Print the number of edges added\n",
    "    print(\"Number of edges added:\", G_copy.number_of_edges())\n",
    "    name = filename.split('.')[0]\n",
    "    nx.write_graphml(G_copy, '../data/trimmed_graphmls/'+name+'.graphml')"
   ]
  },
  {
   "cell_type": "code",
   "execution_count": 14,
   "metadata": {},
   "outputs": [
    {
     "data": {
      "text/plain": [
       "{'name': 'Acanthocephaloides incrassatus',\n",
       " 'most_frequent_locality': 'Atlantic Ocean',\n",
       " 'most_frequent_parasite_group': 'Trematoda',\n",
       " 'animals_group': 'Teleostei'}"
      ]
     },
     "execution_count": 14,
     "metadata": {},
     "output_type": "execute_result"
    }
   ],
   "source": [
    "G_copy.nodes(data=True)[1]"
   ]
  }
 ],
 "metadata": {
  "kernelspec": {
   "display_name": ".venv",
   "language": "python",
   "name": "python3"
  },
  "language_info": {
   "codemirror_mode": {
    "name": "ipython",
    "version": 3
   },
   "file_extension": ".py",
   "mimetype": "text/x-python",
   "name": "python",
   "nbconvert_exporter": "python",
   "pygments_lexer": "ipython3",
   "version": "3.11.9"
  }
 },
 "nbformat": 4,
 "nbformat_minor": 2
}
