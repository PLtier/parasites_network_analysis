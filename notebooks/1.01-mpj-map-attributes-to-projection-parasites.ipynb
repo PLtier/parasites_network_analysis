{
 "cells": [
  {
   "cell_type": "code",
   "execution_count": 1,
   "metadata": {},
   "outputs": [
    {
     "data": {
      "text/plain": [
       "Index(['nodes_index', ' name', 'most_frequent_locality', 'group',\n",
       "       'most_frequent_hostgroup'],\n",
       "      dtype='object')"
      ]
     },
     "execution_count": 1,
     "metadata": {},
     "output_type": "execute_result"
    }
   ],
   "source": [
    "import os\n",
    "import sys\n",
    "import numpy as np\n",
    "import networkx as nx\n",
    "import pandas as pd\n",
    "sys.path.append(os.path.join(os.getcwd(), '../', 'data'))\n",
    "from common_localities import locality_to_common_locality\n",
    "\n",
    "\n",
    "nodes_df = pd.read_csv(\"../data/final_metadata.csv\", index_col=0)\n",
    "\n",
    "nodes_df.columns"
   ]
  },
  {
   "cell_type": "code",
   "execution_count": 2,
   "metadata": {},
   "outputs": [
    {
     "data": {
      "text/plain": [
       "18643"
      ]
     },
     "execution_count": 2,
     "metadata": {},
     "output_type": "execute_result"
    }
   ],
   "source": [
    "G = nx.Graph()\n",
    "for id_parasite, parasite in nodes_df.iterrows():\n",
    "    G.add_node(\n",
    "        parasite['nodes_index'],\n",
    "        name=parasite[' name'],\n",
    "        most_frequent_locality=parasite['most_frequent_locality'],\n",
    "        most_frequent_parasite_group=parasite['group'],\n",
    "        animals_group=parasite['most_frequent_hostgroup']\n",
    "    )\n",
    "    \n",
    "# two steps:\n",
    "# first create nods with attributes only and then connect them\n",
    " \n",
    "G.number_of_nodes()"
   ]
  },
  {
   "cell_type": "code",
   "execution_count": 6,
   "metadata": {},
   "outputs": [
    {
     "name": "stdout",
     "output_type": "stream",
     "text": [
      "Loaded dataframes: ['1_resource_allocation_naive.csv', '1_simple_disparity_filter.csv', '2_resource_allocation_naive.csv', '2_simple_disparity_filter.csv']\n",
      "Number of edges added: 15588 18643\n",
      "Number of edges added: 443701 18643\n",
      "Number of edges added: 42691 18643\n",
      "Number of edges added: 336278 18643\n"
     ]
    }
   ],
   "source": [
    "import pickle\n",
    "import os\n",
    "\n",
    "# Directory containing the CSV files\n",
    "directory = '../data/trimmed_network_projections'\n",
    "\n",
    "# Dictionary to store dataframes\n",
    "dataframes = {}\n",
    "\n",
    "# Iterate through the files in the directory\n",
    "for filename in os.listdir(directory):\n",
    "    if filename.endswith('.csv'):\n",
    "        filepath = os.path.join(directory, filename)\n",
    "        df = pd.read_csv(filepath)\n",
    "        dataframes[filename] = df\n",
    "\n",
    "# Print the names of the loaded dataframes\n",
    "print(\"Loaded dataframes:\", list(dataframes.keys()))\n",
    "\n",
    "\n",
    "# Create a copy of graph G\n",
    "\n",
    "# Iterate through each dataframe in the dictionary\n",
    "for filename, df in dataframes.items():\n",
    "    G_copy = G.copy()\n",
    "    # Iterate through each row in the dataframe\n",
    "    for _, row in df.iterrows():\n",
    "        src = row['src']\n",
    "        trg = row['trg']\n",
    "        nij = row['nij']\n",
    "        score = row['score']\n",
    "        # Add edge if src and trg are not the same (no self loop)\n",
    "        if src != trg:\n",
    "            G_copy.add_edge(src, trg,attr=[nij,score])\n",
    "\n",
    "    # Print the number of edges added\n",
    "    print(\"Number of edges added:\", G_copy.number_of_edges(), G_copy.number_of_nodes())\n",
    "    name = filename.split('.')[0]\n",
    "    # print(G)\n",
    "    with open('../data/trimmed_networks_pkl/'+name+'.pkl', 'wb') as f:\n",
    "        pickle.dump(G_copy, f)\n"
   ]
  }
 ],
 "metadata": {
  "kernelspec": {
   "display_name": "Python 3",
   "language": "python",
   "name": "python3"
  },
  "language_info": {
   "codemirror_mode": {
    "name": "ipython",
    "version": 3
   },
   "file_extension": ".py",
   "mimetype": "text/x-python",
   "name": "python",
   "nbconvert_exporter": "python",
   "pygments_lexer": "ipython3",
   "version": "3.11.4"
  }
 },
 "nbformat": 4,
 "nbformat_minor": 2
}
