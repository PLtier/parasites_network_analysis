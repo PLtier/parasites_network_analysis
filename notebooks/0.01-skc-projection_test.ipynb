{
 "cells": [
  {
   "cell_type": "code",
   "execution_count": 3,
   "metadata": {},
   "outputs": [],
   "source": [
    "import networkx as nx\n",
    "from networkx.algorithms.community import greedy_modularity_communities\n",
    "import matplotlib.pyplot as plt\n",
    "from collections import Counter\n",
    "import pandas as pd\n",
    "import os\n"
   ]
  },
  {
   "cell_type": "code",
   "execution_count": 34,
   "metadata": {},
   "outputs": [],
   "source": [
    "files = os.listdir('/Users/sunechristiansen/sune/network_analysis/project/parasites_network_analysis/projections_with_backbonings/projection_parasites/')"
   ]
  },
  {
   "cell_type": "code",
   "execution_count": 35,
   "metadata": {},
   "outputs": [
    {
     "name": "stdout",
     "output_type": "stream",
     "text": [
      "name: simple_disparity_filter.csv, edges: 598944, nodes: 17426\n",
      "name: pearson_noise_corrected.csv, edges: 109730, nodes: 15369\n",
      "name: hyperbolic_high_salience_skeleton.csv, edges: 598944, nodes: 17426\n",
      "name: resource_allocation_naive.csv, edges: 598944, nodes: 17426\n",
      "name: simple_noise_corrected.csv, edges: 598944, nodes: 17426\n"
     ]
    }
   ],
   "source": [
    "\n",
    "for i in range(len(files)):\n",
    "    # Read the CSV file\n",
    "    df = pd.read_csv('/Users/sunechristiansen/sune/network_analysis/project/parasites_network_analysis/projections_with_backbonings/projection_parasites/' + files[i])\n",
    "\n",
    "    # Rename columns\n",
    "    df.rename(columns={'src': 'source', 'trg': 'target', 'nij': 'weight'}, inplace=True)\n",
    "\n",
    "    # Create the graph with weights\n",
    "    G = nx.from_pandas_edgelist(df, source='source', target='target', edge_attr='weight')\n",
    "\n",
    "    print(f'name: {files[i]}, edges: {len(G.edges(data=True))}, nodes: {len(G.nodes)}')\n"
   ]
  },
  {
   "cell_type": "code",
   "execution_count": 40,
   "metadata": {},
   "outputs": [],
   "source": [
    "resource_all_df = pd.read_csv('/Users/sunechristiansen/sune/network_analysis/project/parasites_network_analysis/projections_with_backbonings/projection_parasites/' + files[2])\n",
    "# Rename columns\n",
    "resource_all_df.rename(columns={'src': 'source', 'trg': 'target', 'nij': 'weight'}, inplace=True)\n",
    "\n",
    "# Create the graph with weights\n",
    "G = nx.from_pandas_edgelist(resource_all_df, source='source', target='target', edge_attr='weight')"
   ]
  },
  {
   "cell_type": "code",
   "execution_count": 45,
   "metadata": {},
   "outputs": [
    {
     "name": "stdout",
     "output_type": "stream",
     "text": [
      "Number of nodes in largest component: 15899\n",
      "Number of edges in largest component: 438649\n"
     ]
    }
   ],
   "source": [
    "threshold = 0.01\n",
    "\n",
    "# Get all edge weights\n",
    "edge_weights = nx.get_edge_attributes(G, 'weight')\n",
    "\n",
    "# Filter edges with weights above the threshold\n",
    "filtered_edges = [(u, v, w) for (u, v), w in edge_weights.items() if w >= threshold]\n",
    "\n",
    "# Create a new graph with the filtered edges\n",
    "filtered_G = nx.Graph()  # Use nx.DiGraph() if the original graph is directed\n",
    "filtered_G.add_weighted_edges_from(filtered_edges)\n",
    "\n",
    "# Find all connected components\n",
    "connected_components = list(nx.connected_components(filtered_G))\n",
    "\n",
    "# Find the largest connected component\n",
    "largest_component = max(connected_components, key=len)\n",
    "\n",
    "# Create a subgraph of the largest connected component\n",
    "largest_subgraph = filtered_G.subgraph(largest_component)\n",
    "\n",
    "# Print details\n",
    "print(f\"Number of nodes in largest component: {len(largest_subgraph.nodes)}\")\n",
    "print(f\"Number of edges in largest component: {len(largest_subgraph.edges)}\")\n"
   ]
  },
  {
   "cell_type": "code",
   "execution_count": null,
   "metadata": {},
   "outputs": [],
   "source": [
    "Number of nodes in largest component: 16290\n",
    "Number of edges in largest component: 597342"
   ]
  },
  {
   "cell_type": "markdown",
   "metadata": {},
   "source": []
  }
 ],
 "metadata": {
  "kernelspec": {
   "display_name": "my_project_env",
   "language": "python",
   "name": "python3"
  },
  "language_info": {
   "codemirror_mode": {
    "name": "ipython",
    "version": 3
   },
   "file_extension": ".py",
   "mimetype": "text/x-python",
   "name": "python",
   "nbconvert_exporter": "python",
   "pygments_lexer": "ipython3",
   "version": "3.11.10"
  }
 },
 "nbformat": 4,
 "nbformat_minor": 2
}
