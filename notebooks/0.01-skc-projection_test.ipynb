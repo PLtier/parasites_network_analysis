{
 "cells": [
  {
   "cell_type": "code",
   "execution_count": 1,
   "metadata": {},
   "outputs": [],
   "source": [
    "import networkx as nx\n",
    "from networkx.algorithms.community import greedy_modularity_communities\n",
    "from networkx.algorithms.community import modularity\n",
    "import matplotlib.pyplot as plt\n",
    "from collections import Counter\n",
    "import pandas as pd\n",
    "import os\n"
   ]
  },
  {
   "cell_type": "code",
   "execution_count": 5,
   "metadata": {},
   "outputs": [
    {
     "ename": "FileNotFoundError",
     "evalue": "[Errno 2] No such file or directory: '/Users/sunechristiansen/sune/network_analysis/project/parasites_network_analysis/projections_with_backbonings/projection_parasites/'",
     "output_type": "error",
     "traceback": [
      "\u001b[0;31m---------------------------------------------------------------------------\u001b[0m",
      "\u001b[0;31mFileNotFoundError\u001b[0m                         Traceback (most recent call last)",
      "Cell \u001b[0;32mIn[5], line 1\u001b[0m\n\u001b[0;32m----> 1\u001b[0m files \u001b[38;5;241m=\u001b[39m os\u001b[38;5;241m.\u001b[39mlistdir(\u001b[38;5;124m'\u001b[39m\u001b[38;5;124m/Users/sunechristiansen/sune/network_analysis/project/parasites_network_analysis/projections_with_backbonings/projection_parasites/\u001b[39m\u001b[38;5;124m'\u001b[39m)\n",
      "\u001b[0;31mFileNotFoundError\u001b[0m: [Errno 2] No such file or directory: '/Users/sunechristiansen/sune/network_analysis/project/parasites_network_analysis/projections_with_backbonings/projection_parasites/'"
     ]
    }
   ],
   "source": [
    "\n",
    "\n",
    "files = os.listdir('/Users/sunechristiansen/sune/network_analysis/project/parasites_network_analysis/projections_with_backbonings/projection_parasites/')"
   ]
  },
  {
   "cell_type": "code",
   "execution_count": null,
   "metadata": {},
   "outputs": [
    {
     "name": "stdout",
     "output_type": "stream",
     "text": [
      "name: simple_disparity_filter.csv, edges: 598944, nodes: 17426\n",
      "name: pearson_noise_corrected.csv, edges: 109730, nodes: 15369\n",
      "name: hyperbolic_high_salience_skeleton.csv, edges: 598944, nodes: 17426\n",
      "name: resource_allocation_naive.csv, edges: 598944, nodes: 17426\n",
      "name: simple_noise_corrected.csv, edges: 598944, nodes: 17426\n"
     ]
    }
   ],
   "source": [
    "\n",
    "for i in range(len(files)):\n",
    "    # Read the CSV file\n",
    "    df = pd.read_csv('/Users/sunechristiansen/sune/network_analysis/project/parasites_network_analysis/projections_with_backbonings/projection_parasites/' + files[i])\n",
    "\n",
    "    # Rename columns\n",
    "    df.rename(columns={'src': 'source', 'trg': 'target', 'nij': 'weight'}, inplace=True)\n",
    "\n",
    "    # Create the graph with weights\n",
    "    G = nx.from_pandas_edgelist(df, source='source', target='target', edge_attr='weight')\n",
    "\n",
    "    print(f'name: {files[i]}, edges: {len(G.edges(data=True))}, nodes: {len(G.nodes)}')\n"
   ]
  },
  {
   "cell_type": "code",
   "execution_count": 2,
   "metadata": {},
   "outputs": [],
   "source": [
    "resource_all_df = pd.read_csv('resource_allocation_naive.csv')\n",
    "# Rename columns\n",
    "resource_all_df.rename(columns={'src': 'source', 'trg': 'target', 'nij': 'weight'}, inplace=True)\n",
    "\n",
    "# Create the graph with weights\n",
    "G = nx.from_pandas_edgelist(resource_all_df, source='source', target='target', edge_attr='weight')"
   ]
  },
  {
   "cell_type": "code",
   "execution_count": null,
   "metadata": {},
   "outputs": [
    {
     "name": "stdout",
     "output_type": "stream",
     "text": [
      "Number of nodes in largest component: 15899\n",
      "Number of edges in largest component: 438649\n"
     ]
    }
   ],
   "source": [
    "\n",
    "\n",
    "\"\"\" # Find all connected components\n",
    "connected_components = list(nx.connected_components(filtered_G))\n",
    "\n",
    "# Find the largest connected component\n",
    "largest_component = max(connected_components, key=len)\n",
    "\n",
    "# Create a subgraph of the largest connected component\n",
    "largest_subgraph = filtered_G.subgraph(largest_component) \"\"\"\n",
    "\n",
    "# Print details\n",
    "print(f\"Number of nodes in largest component: {len(largest_subgraph.nodes)}\")\n",
    "print(f\"Number of edges in largest component: {len(largest_subgraph.edges)}\")\n"
   ]
  },
  {
   "cell_type": "code",
   "execution_count": 3,
   "metadata": {},
   "outputs": [
    {
     "ename": "KeyboardInterrupt",
     "evalue": "",
     "output_type": "error",
     "traceback": [
      "\u001b[0;31m---------------------------------------------------------------------------\u001b[0m",
      "\u001b[0;31mKeyboardInterrupt\u001b[0m                         Traceback (most recent call last)",
      "Cell \u001b[0;32mIn[3], line 14\u001b[0m\n\u001b[1;32m     11\u001b[0m filtered_G \u001b[38;5;241m=\u001b[39m nx\u001b[38;5;241m.\u001b[39mGraph()  \u001b[38;5;66;03m# Use nx.DiGraph() if the original graph is directed\u001b[39;00m\n\u001b[1;32m     12\u001b[0m filtered_G\u001b[38;5;241m.\u001b[39madd_weighted_edges_from(filtered_edges)\n\u001b[0;32m---> 14\u001b[0m communities \u001b[38;5;241m=\u001b[39m greedy_modularity_communities(filtered_G, weight\u001b[38;5;241m=\u001b[39m\u001b[38;5;28;01mNone\u001b[39;00m)\n\u001b[1;32m     16\u001b[0m modularity_r \u001b[38;5;241m=\u001b[39m modularity(filtered_G, communities)\n\u001b[1;32m     17\u001b[0m \u001b[38;5;28mprint\u001b[39m(\u001b[38;5;124m\"\u001b[39m\u001b[38;5;124mthreshold: \u001b[39m\u001b[38;5;124m\"\u001b[39m, threshold, \u001b[38;5;124m\"\u001b[39m\u001b[38;5;124m & modularity: \u001b[39m\u001b[38;5;124m\"\u001b[39m, modularity_r)\n",
      "File \u001b[0;32m/opt/anaconda3/envs/networks/lib/python3.12/site-packages/networkx/utils/decorators.py:789\u001b[0m, in \u001b[0;36margmap.__call__.<locals>.func\u001b[0;34m(_argmap__wrapper, *args, **kwargs)\u001b[0m\n\u001b[1;32m    788\u001b[0m \u001b[39mdef\u001b[39;00m \u001b[39mfunc\u001b[39m(\u001b[39m*\u001b[39margs, __wrapper\u001b[39m=\u001b[39m\u001b[39mNone\u001b[39;00m, \u001b[39m*\u001b[39m\u001b[39m*\u001b[39mkwargs):\n\u001b[0;32m--> 789\u001b[0m     \u001b[39mreturn\u001b[39;00m argmap\u001b[39m.\u001b[39m_lazy_compile(__wrapper)(\u001b[39m*\u001b[39margs, \u001b[39m*\u001b[39m\u001b[39m*\u001b[39mkwargs)\n",
      "File \u001b[0;32m<class 'networkx.utils.decorators.argmap'> compilation 16:3\u001b[0m, in \u001b[0;36margmap_greedy_modularity_communities_13\u001b[0;34m(G, weight, resolution, cutoff, best_n, backend, **backend_kwargs)\u001b[0m\n\u001b[1;32m      1\u001b[0m \u001b[39mimport\u001b[39;00m \u001b[39mbz2\u001b[39;00m\n\u001b[1;32m      2\u001b[0m \u001b[39mimport\u001b[39;00m \u001b[39mcollections\u001b[39;00m\n\u001b[0;32m----> 3\u001b[0m \u001b[39mimport\u001b[39;00m \u001b[39mgzip\u001b[39;00m\n\u001b[1;32m      4\u001b[0m \u001b[39mimport\u001b[39;00m \u001b[39minspect\u001b[39;00m\n\u001b[1;32m      5\u001b[0m \u001b[39mimport\u001b[39;00m \u001b[39mitertools\u001b[39;00m\n",
      "File \u001b[0;32m/opt/anaconda3/envs/networks/lib/python3.12/site-packages/networkx/utils/backends.py:633\u001b[0m, in \u001b[0;36m_dispatchable.__call__\u001b[0;34m(self, backend, *args, **kwargs)\u001b[0m\n\u001b[1;32m    628\u001b[0m \u001b[39m\u001b[39m\u001b[39m\"\"\"Returns the result of the original function, or the backend function if\u001b[39;00m\n\u001b[1;32m    629\u001b[0m \u001b[39mthe backend is specified and that backend implements `func`.\"\"\"\u001b[39;00m\n\u001b[1;32m    631\u001b[0m \u001b[39mif\u001b[39;00m \u001b[39mnot\u001b[39;00m backends:\n\u001b[1;32m    632\u001b[0m     \u001b[39m# Fast path if no backends are installed\u001b[39;00m\n\u001b[0;32m--> 633\u001b[0m     \u001b[39mreturn\u001b[39;00m \u001b[39mself\u001b[39m\u001b[39m.\u001b[39morig_func(\u001b[39m*\u001b[39margs, \u001b[39m*\u001b[39m\u001b[39m*\u001b[39mkwargs)\n\u001b[1;32m    635\u001b[0m \u001b[39m# Use `backend_name` in this function instead of `backend`\u001b[39;00m\n\u001b[1;32m    636\u001b[0m backend_name \u001b[39m=\u001b[39m backend\n",
      "File \u001b[0;32m/opt/anaconda3/envs/networks/lib/python3.12/site-packages/networkx/algorithms/community/modularity_max.py:352\u001b[0m, in \u001b[0;36mgreedy_modularity_communities\u001b[0;34m(G, weight, resolution, cutoff, best_n)\u001b[0m\n\u001b[1;32m    350\u001b[0m     \u001b[39mif\u001b[39;00m dq \u001b[39m<\u001b[39m \u001b[39m0\u001b[39m \u001b[39mand\u001b[39;00m \u001b[39mlen\u001b[39m(communities) \u001b[39m<\u001b[39m\u001b[39m=\u001b[39m best_n:\n\u001b[1;32m    351\u001b[0m         \u001b[39mbreak\u001b[39;00m\n\u001b[0;32m--> 352\u001b[0m     communities \u001b[39m=\u001b[39m \u001b[39mnext\u001b[39m(community_gen)\n\u001b[1;32m    354\u001b[0m \u001b[39mreturn\u001b[39;00m \u001b[39msorted\u001b[39m(communities, key\u001b[39m=\u001b[39m\u001b[39mlen\u001b[39m, reverse\u001b[39m=\u001b[39m\u001b[39mTrue\u001b[39;00m)\n",
      "File \u001b[0;32m/opt/anaconda3/envs/networks/lib/python3.12/site-packages/networkx/algorithms/community/modularity_max.py:176\u001b[0m, in \u001b[0;36m_greedy_modularity_communities_generator\u001b[0;34m(G, weight, resolution)\u001b[0m\n\u001b[1;32m    173\u001b[0m \u001b[39m# Save old value for finding heap index\u001b[39;00m\n\u001b[1;32m    174\u001b[0m \u001b[39mif\u001b[39;00m w \u001b[39min\u001b[39;00m v_nbrs:\n\u001b[1;32m    175\u001b[0m     \u001b[39m# Update existing element in per-row heap\u001b[39;00m\n\u001b[0;32m--> 176\u001b[0m     dq_heap_row\u001b[39m.\u001b[39mupdate(d, d, priority\u001b[39m=\u001b[39md_negdq)\n\u001b[1;32m    177\u001b[0m \u001b[39melse\u001b[39;00m:\n\u001b[1;32m    178\u001b[0m     \u001b[39m# We're creating a new nonzero element, add to heap\u001b[39;00m\n\u001b[1;32m    179\u001b[0m     dq_heap_row\u001b[39m.\u001b[39mpush(d, priority\u001b[39m=\u001b[39md_negdq)\n",
      "File \u001b[0;32m/opt/anaconda3/envs/networks/lib/python3.12/site-packages/networkx/utils/mapped_queue.py:218\u001b[0m, in \u001b[0;36mMappedQueue.update\u001b[0;34m(self, elt, new, priority)\u001b[0m\n\u001b[1;32m    216\u001b[0m \u001b[39mself\u001b[39m\u001b[39m.\u001b[39mposition[new] \u001b[39m=\u001b[39m pos\n\u001b[1;32m    217\u001b[0m \u001b[39m# Restore invariant by sifting up\u001b[39;00m\n\u001b[0;32m--> 218\u001b[0m \u001b[39mself\u001b[39m\u001b[39m.\u001b[39m_siftup(pos)\n",
      "File \u001b[0;32m/opt/anaconda3/envs/networks/lib/python3.12/site-packages/networkx/utils/mapped_queue.py:277\u001b[0m, in \u001b[0;36mMappedQueue._siftup\u001b[0;34m(self, pos)\u001b[0m\n\u001b[1;32m    275\u001b[0m     pos \u001b[39m=\u001b[39m parent_pos\n\u001b[1;32m    276\u001b[0m heap[pos] \u001b[39m=\u001b[39m newitem\n\u001b[0;32m--> 277\u001b[0m position[newitem] \u001b[39m=\u001b[39m pos\n",
      "File \u001b[0;32m/opt/anaconda3/envs/networks/lib/python3.12/site-packages/networkx/utils/mapped_queue.py:75\u001b[0m, in \u001b[0;36m_HeapElement.__hash__\u001b[0;34m(self)\u001b[0m\n\u001b[1;32m     72\u001b[0m     \u001b[39mexcept\u001b[39;00m \u001b[39mAttributeError\u001b[39;00m:\n\u001b[1;32m     73\u001b[0m         \u001b[39mreturn\u001b[39;00m \u001b[39mself\u001b[39m\u001b[39m.\u001b[39melement \u001b[39m==\u001b[39m other\n\u001b[0;32m---> 75\u001b[0m \u001b[39mdef\u001b[39;00m \u001b[39m__hash__\u001b[39m(\u001b[39mself\u001b[39m):\n\u001b[1;32m     76\u001b[0m     \u001b[39mreturn\u001b[39;00m \u001b[39mself\u001b[39m\u001b[39m.\u001b[39m_hash\n\u001b[1;32m     78\u001b[0m \u001b[39mdef\u001b[39;00m \u001b[39m__getitem__\u001b[39m(\u001b[39mself\u001b[39m, indx):\n",
      "\u001b[0;31mKeyboardInterrupt\u001b[0m: "
     ]
    }
   ],
   "source": [
    "# Brute force find highest modularity resource allocation plus threshold:\n",
    "for i in range(100):\n",
    "    threshold = i/100\n",
    "    # Get all edge weights\n",
    "    edge_weights = nx.get_edge_attributes(G, 'weight')\n",
    "\n",
    "    # Filter edges with weights above the threshold\n",
    "    filtered_edges = [(u, v, w) for (u, v), w in edge_weights.items() if w >= threshold]\n",
    "\n",
    "    # Create a new graph with the filtered edges\n",
    "    filtered_G = nx.Graph()  # Use nx.DiGraph() if the original graph is directed\n",
    "    filtered_G.add_weighted_edges_from(filtered_edges)\n",
    "\n",
    "    communities = greedy_modularity_communities(filtered_G, weight=None)\n",
    "\n",
    "    modularity_r = modularity(filtered_G, communities)\n",
    "    print(\"threshold: \", threshold, \" & modularity: \", modularity_r)\n",
    "    "
   ]
  },
  {
   "cell_type": "markdown",
   "metadata": {},
   "source": []
  }
 ],
 "metadata": {
  "kernelspec": {
   "display_name": "Python 3.12.7 ('networks')",
   "language": "python",
   "name": "python3"
  },
  "language_info": {
   "codemirror_mode": {
    "name": "ipython",
    "version": 3
   },
   "file_extension": ".py",
   "mimetype": "text/x-python",
   "name": "python",
   "nbconvert_exporter": "python",
   "pygments_lexer": "ipython3",
   "version": "3.12.7"
  },
  "vscode": {
   "interpreter": {
    "hash": "f70ee9fc3775fd3d36e8901c14f43724809d6b0598125e9f8a1ecf3295db15b5"
   }
  }
 },
 "nbformat": 4,
 "nbformat_minor": 2
}
