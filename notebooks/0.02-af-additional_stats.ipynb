{
 "cells": [
  {
   "cell_type": "code",
   "execution_count": 1,
   "metadata": {},
   "outputs": [],
   "source": [
    "import networkx as nx\n",
    "import pickle\n",
    "import os\n",
    "from collections import Counter\n",
    "from collections import defaultdict\n",
    "import numpy as np"
   ]
  },
  {
   "cell_type": "code",
   "execution_count": null,
   "metadata": {},
   "outputs": [],
   "source": [
    "original_graph = nx.read_edgelist()"
   ]
  },
  {
   "cell_type": "code",
   "execution_count": 2,
   "metadata": {},
   "outputs": [],
   "source": [
    "def create_dict_of_pkl(folder):\n",
    "    ret = {}\n",
    "    for filename in os.listdir(folder):\n",
    "        if filename.endswith('.pkl'):\n",
    "            filepath = os.path.join(folder, filename)\n",
    "            with open(filepath, 'rb') as f:\n",
    "                o = pickle.load(f)\n",
    "                ret[filename] = o\n",
    "    return ret"
   ]
  },
  {
   "cell_type": "code",
   "execution_count": 3,
   "metadata": {},
   "outputs": [
    {
     "name": "stdout",
     "output_type": "stream",
     "text": [
      "Graph: 1_resource_allocation_naive.pkl, Nodes: 9213, Edges: 15588\n",
      "Graph: 1_simple_disparity_filter.pkl, Nodes: 16075, Edges: 443701\n",
      "Graph: 2_resource_allocation_naive.pkl, Nodes: 12770, Edges: 42691\n",
      "Graph: 2_simple_disparity_filter.pkl, Nodes: 14911, Edges: 336278\n"
     ]
    }
   ],
   "source": [
    "graphs = create_dict_of_pkl('../data/trimmed_networks_pkl')\n",
    "for graph_name, graph in graphs.items():\n",
    "    print(f\"Graph: {graph_name}, Nodes: {graph.number_of_nodes()}, Edges: {graph.number_of_edges()}\")\n",
    "\n",
    "graph_data = create_dict_of_pkl('../data/communities_and_modularity')"
   ]
  },
  {
   "cell_type": "code",
   "execution_count": null,
   "metadata": {},
   "outputs": [],
   "source": []
  },
  {
   "cell_type": "code",
   "execution_count": 4,
   "metadata": {},
   "outputs": [
    {
     "name": "stdout",
     "output_type": "stream",
     "text": [
      "Density for 1_resource_allocation_naive.pkl: 0.0003673376068732571\n",
      "Density for 1_simple_disparity_filter.pkl: 0.0034343571556976664\n",
      "Density for 2_resource_allocation_naive.pkl: 0.0005236227887221726\n",
      "Density for 2_simple_disparity_filter.pkl: 0.0030251299674289227\n"
     ]
    }
   ],
   "source": [
    "for name,graph in graphs.items():\n",
    "    print(f\"Density for {name}: {nx.density(graph)}\")"
   ]
  },
  {
   "cell_type": "code",
   "execution_count": 45,
   "metadata": {},
   "outputs": [
    {
     "name": "stdout",
     "output_type": "stream",
     "text": [
      "Diameter for 2_simple_disparity_filter.pkl: 13\n"
     ]
    }
   ],
   "source": [
    "for name,graph in graphs.items():\n",
    "    if name == \"2_simple_disparity_filter.pkl\":\n",
    "        components = nx.connected_components(graph)\n",
    "        largest_component_nodes = max(components, key=len)\n",
    "        # Create a subgraph of the largest connected component sp diameter could be observed\n",
    "        largest_component_subgraph = graph.subgraph(largest_component_nodes).copy()\n",
    "\n",
    "        print(f\"Diameter for {name}: {nx.diameter(largest_component_subgraph)}\")\n",
    "\n",
    "#Diameter for 1_resource_allocation_naive.pkl: 53\n",
    "#Diameter for 1_simple_disparity_filter.pkl: 12\n",
    "#Diameter for 2_resource_allocation_naive.pkl: 21"
   ]
  },
  {
   "cell_type": "code",
   "execution_count": 4,
   "metadata": {},
   "outputs": [
    {
     "name": "stdout",
     "output_type": "stream",
     "text": [
      "average nij for 1_resource_allocation_naive.pkl: 0.13249297032906915\n",
      "average score for 1_resource_allocation_naive.pkl: 0.06624648516453455\n",
      "\n",
      "average nij for 1_simple_disparity_filter.pkl: 1.6234108104331522\n",
      "average score for 1_simple_disparity_filter.pkl: 0.6423426981327841\n",
      "\n",
      "average nij for 2_resource_allocation_naive.pkl: 0.07882542830326944\n",
      "average score for 2_resource_allocation_naive.pkl: 0.0394127141516347\n",
      "\n",
      "average nij for 2_simple_disparity_filter.pkl: 1.8015570450639053\n",
      "average score for 2_simple_disparity_filter.pkl: 0.6740094634135435\n",
      "\n"
     ]
    }
   ],
   "source": [
    "for name, graph in graphs.items():\n",
    "    graph_nijs = [edge[2][\"nij\"] for edge in graph.edges(data=True)]\n",
    "    graph_scores = [edge[2][\"score\"] for edge in graph.edges(data=True)]\n",
    "    print(f\"average nij for {name}: {np.average(graph_nijs)}\")\n",
    "    print(f\"average score for {name}: {np.average(graph_scores)}\")\n",
    "    print()"
   ]
  },
  {
   "cell_type": "code",
   "execution_count": 85,
   "metadata": {},
   "outputs": [
    {
     "ename": "FileNotFoundError",
     "evalue": "[Errno 2] No such file or directory: '../projections_with_backbonings/projections/simple.csv'",
     "output_type": "error",
     "traceback": [
      "\u001b[1;31m---------------------------------------------------------------------------\u001b[0m",
      "\u001b[1;31mFileNotFoundError\u001b[0m                         Traceback (most recent call last)",
      "Cell \u001b[1;32mIn[85], line 1\u001b[0m\n\u001b[1;32m----> 1\u001b[0m original_graph \u001b[38;5;241m=\u001b[39m \u001b[43mnx\u001b[49m\u001b[38;5;241;43m.\u001b[39;49m\u001b[43mread_edgelist\u001b[49m\u001b[43m(\u001b[49m\u001b[38;5;124;43m\"\u001b[39;49m\u001b[38;5;124;43m../projections_with_backbonings/projections/simple.csv\u001b[39;49m\u001b[38;5;124;43m\"\u001b[39;49m\u001b[43m,\u001b[49m\u001b[43mdelimiter\u001b[49m\u001b[38;5;241;43m=\u001b[39;49m\u001b[38;5;124;43m\"\u001b[39;49m\u001b[38;5;124;43m,\u001b[39;49m\u001b[38;5;124;43m\"\u001b[39;49m\u001b[43m)\u001b[49m\n",
      "File \u001b[1;32m<class 'networkx.utils.decorators.argmap'> compilation 17:3\u001b[0m, in \u001b[0;36margmap_read_edgelist_13\u001b[1;34m(path, comments, delimiter, create_using, nodetype, data, edgetype, encoding, backend, **backend_kwargs)\u001b[0m\n\u001b[0;32m      1\u001b[0m \u001b[38;5;28;01mimport\u001b[39;00m \u001b[38;5;21;01mbz2\u001b[39;00m\n\u001b[0;32m      2\u001b[0m \u001b[38;5;28;01mimport\u001b[39;00m \u001b[38;5;21;01mcollections\u001b[39;00m\n\u001b[1;32m----> 3\u001b[0m \u001b[38;5;28;01mimport\u001b[39;00m \u001b[38;5;21;01mgzip\u001b[39;00m\n\u001b[0;32m      4\u001b[0m \u001b[38;5;28;01mimport\u001b[39;00m \u001b[38;5;21;01minspect\u001b[39;00m\n\u001b[0;32m      5\u001b[0m \u001b[38;5;28;01mimport\u001b[39;00m \u001b[38;5;21;01mitertools\u001b[39;00m\n",
      "File \u001b[1;32mc:\\Users\\andra\\AppData\\Local\\Programs\\Python\\Python311\\Lib\\site-packages\\networkx\\utils\\decorators.py:193\u001b[0m, in \u001b[0;36mopen_file.<locals>._open_file\u001b[1;34m(path)\u001b[0m\n\u001b[0;32m    189\u001b[0m \u001b[38;5;28;01melse\u001b[39;00m:\n\u001b[0;32m    190\u001b[0m     \u001b[38;5;66;03m# could be None, or a file handle, in which case the algorithm will deal with it\u001b[39;00m\n\u001b[0;32m    191\u001b[0m     \u001b[38;5;28;01mreturn\u001b[39;00m path, \u001b[38;5;28;01mlambda\u001b[39;00m: \u001b[38;5;28;01mNone\u001b[39;00m\n\u001b[1;32m--> 193\u001b[0m fobj \u001b[38;5;241m=\u001b[39m \u001b[43m_dispatch_dict\u001b[49m\u001b[43m[\u001b[49m\u001b[43mext\u001b[49m\u001b[43m]\u001b[49m\u001b[43m(\u001b[49m\u001b[43mpath\u001b[49m\u001b[43m,\u001b[49m\u001b[43m \u001b[49m\u001b[43mmode\u001b[49m\u001b[38;5;241;43m=\u001b[39;49m\u001b[43mmode\u001b[49m\u001b[43m)\u001b[49m\n\u001b[0;32m    194\u001b[0m \u001b[38;5;28;01mreturn\u001b[39;00m fobj, \u001b[38;5;28;01mlambda\u001b[39;00m: fobj\u001b[38;5;241m.\u001b[39mclose()\n",
      "\u001b[1;31mFileNotFoundError\u001b[0m: [Errno 2] No such file or directory: '../projections_with_backbonings/projections/simple.csv'"
     ]
    }
   ],
   "source": [
    "original_graph = nx.read_edgelist(\"../projections_with_backbonings/projections/simple.csv\",delimiter=\",\")"
   ]
  },
  {
   "cell_type": "code",
   "execution_count": null,
   "metadata": {},
   "outputs": [
    {
     "ename": "FileNotFoundError",
     "evalue": "[Errno 2] No such file or directory: '../projections_with_backbonings/projections/resource_allocation.csv'",
     "output_type": "error",
     "traceback": [
      "\u001b[1;31m---------------------------------------------------------------------------\u001b[0m",
      "\u001b[1;31mFileNotFoundError\u001b[0m                         Traceback (most recent call last)",
      "Cell \u001b[1;32mIn[6], line 1\u001b[0m\n\u001b[1;32m----> 1\u001b[0m graph \u001b[38;5;241m=\u001b[39m \u001b[43mnx\u001b[49m\u001b[38;5;241;43m.\u001b[39;49m\u001b[43mread_edgelist\u001b[49m\u001b[43m(\u001b[49m\u001b[38;5;124;43m\"\u001b[39;49m\u001b[38;5;124;43m../projections_with_backbonings/projections/resource_allocation.csv\u001b[39;49m\u001b[38;5;124;43m\"\u001b[39;49m\u001b[43m)\u001b[49m\n\u001b[0;32m      2\u001b[0m components \u001b[38;5;241m=\u001b[39m nx\u001b[38;5;241m.\u001b[39mconnected_components(graph)\n\u001b[0;32m      3\u001b[0m largest_component_nodes \u001b[38;5;241m=\u001b[39m \u001b[38;5;28mmax\u001b[39m(components, key\u001b[38;5;241m=\u001b[39m\u001b[38;5;28mlen\u001b[39m)\n",
      "File \u001b[1;32m<class 'networkx.utils.decorators.argmap'> compilation 5:3\u001b[0m, in \u001b[0;36margmap_read_edgelist_1\u001b[1;34m(path, comments, delimiter, create_using, nodetype, data, edgetype, encoding, backend, **backend_kwargs)\u001b[0m\n\u001b[0;32m      1\u001b[0m \u001b[38;5;28;01mimport\u001b[39;00m \u001b[38;5;21;01mbz2\u001b[39;00m\n\u001b[0;32m      2\u001b[0m \u001b[38;5;28;01mimport\u001b[39;00m \u001b[38;5;21;01mcollections\u001b[39;00m\n\u001b[1;32m----> 3\u001b[0m \u001b[38;5;28;01mimport\u001b[39;00m \u001b[38;5;21;01mgzip\u001b[39;00m\n\u001b[0;32m      4\u001b[0m \u001b[38;5;28;01mimport\u001b[39;00m \u001b[38;5;21;01minspect\u001b[39;00m\n\u001b[0;32m      5\u001b[0m \u001b[38;5;28;01mimport\u001b[39;00m \u001b[38;5;21;01mitertools\u001b[39;00m\n",
      "File \u001b[1;32mc:\\Users\\andra\\AppData\\Local\\Programs\\Python\\Python311\\Lib\\site-packages\\networkx\\utils\\decorators.py:193\u001b[0m, in \u001b[0;36mopen_file.<locals>._open_file\u001b[1;34m(path)\u001b[0m\n\u001b[0;32m    189\u001b[0m \u001b[38;5;28;01melse\u001b[39;00m:\n\u001b[0;32m    190\u001b[0m     \u001b[38;5;66;03m# could be None, or a file handle, in which case the algorithm will deal with it\u001b[39;00m\n\u001b[0;32m    191\u001b[0m     \u001b[38;5;28;01mreturn\u001b[39;00m path, \u001b[38;5;28;01mlambda\u001b[39;00m: \u001b[38;5;28;01mNone\u001b[39;00m\n\u001b[1;32m--> 193\u001b[0m fobj \u001b[38;5;241m=\u001b[39m \u001b[43m_dispatch_dict\u001b[49m\u001b[43m[\u001b[49m\u001b[43mext\u001b[49m\u001b[43m]\u001b[49m\u001b[43m(\u001b[49m\u001b[43mpath\u001b[49m\u001b[43m,\u001b[49m\u001b[43m \u001b[49m\u001b[43mmode\u001b[49m\u001b[38;5;241;43m=\u001b[39;49m\u001b[43mmode\u001b[49m\u001b[43m)\u001b[49m\n\u001b[0;32m    194\u001b[0m \u001b[38;5;28;01mreturn\u001b[39;00m fobj, \u001b[38;5;28;01mlambda\u001b[39;00m: fobj\u001b[38;5;241m.\u001b[39mclose()\n",
      "\u001b[1;31mFileNotFoundError\u001b[0m: [Errno 2] No such file or directory: '../projections_with_backbonings/projections/resource_allocation.csv'"
     ]
    }
   ],
   "source": [
    "graph = nx.read_edgelist(\"../projections_with_backbonings/projections/resource_allocation.csv\")\n",
    "components = nx.connected_components(graph)\n",
    "largest_component_nodes = max(components, key=len)\n",
    "# Create a subgraph of the largest connected component sp diameter could be observed\n",
    "largest_component_subgraph = graph.subgraph(largest_component_nodes).copy()\n",
    "name = \"original projected graph\"\n",
    "print(f\"Diameter for {name}: {nx.diameter(largest_component_subgraph)}\")"
   ]
  },
  {
   "cell_type": "code",
   "execution_count": 4,
   "metadata": {},
   "outputs": [],
   "source": [
    "def calculate_average_purity(graph, discovered_communities, ground_truth_communities):\n",
    "    # Create a mapping of nodes to ground truth labels\n",
    "    ground_truth_labels = {}\n",
    "    for i, ground_truth_community in enumerate(ground_truth_communities):\n",
    "        for node in ground_truth_community:\n",
    "            ground_truth_labels[node] = i  # Assign an integer label to each ground truth community\n",
    "\n",
    "    total_purity = 0\n",
    "    total_nodes = len(graph.nodes)\n",
    "\n",
    "    print(f\"ground truth labels: {ground_truth_labels}\")\n",
    "    print(len(discovered_communities))\n",
    "    # Calculate purity for each discovered community\n",
    "    for ci, community in enumerate(discovered_communities):\n",
    "        # Get ground truth labels for nodes in this discovered community\n",
    "        labels = [ground_truth_labels[node] for node in community if node in ground_truth_labels]\n",
    "        if not labels:\n",
    "            continue\n",
    "\n",
    "        print(f\"labels for community {ci}: {labels}\")\n",
    "\n",
    "        label_counts = Counter(labels)\n",
    "        max_label_count = max(label_counts.values())\n",
    "\n",
    "        # Purity for this community\n",
    "        community_purity = max_label_count / len(community)\n",
    "\n",
    "        # Weight by the size of the community\n",
    "        total_purity += len(community) * community_purity\n",
    "\n",
    "    # Average purity\n",
    "    average_purity = total_purity / total_nodes\n",
    "    return average_purity\n"
   ]
  },
  {
   "cell_type": "code",
   "execution_count": 4,
   "metadata": {},
   "outputs": [],
   "source": [
    "def calculate_average_gini_impurity(graph, discovered_communities, ground_truth_communities):\n",
    "    # Create a mapping of nodes to ground truth labels\n",
    "    ground_truth_labels = {}\n",
    "    for i, ground_truth_community in enumerate(ground_truth_communities):\n",
    "        for node in ground_truth_community:\n",
    "            ground_truth_labels[node] = i  # Assign an integer label to each ground truth community\n",
    "    total_gini_impurity = 0\n",
    "    total_nodes = len(graph.nodes)\n",
    "\n",
    "    # Calculate Gini impurity for each discovered community\n",
    "    for community in discovered_communities:\n",
    "        # Get ground truth labels for nodes in this discovered community\n",
    "        labels = [ground_truth_labels[node] for node in community if node in ground_truth_labels]\n",
    "        if not labels:\n",
    "            continue\n",
    "\n",
    "        # Calculate label frequencies\n",
    "        label_counts = Counter(labels)\n",
    "        community_size = len(community)\n",
    "        proportions = [count / community_size for count in label_counts.values()]\n",
    "\n",
    "        # Gini impurity for this community\n",
    "        gini_impurity = 1 - sum(p**2 for p in proportions)\n",
    "\n",
    "        # Weight by the size of the community\n",
    "        total_gini_impurity += len(community) * gini_impurity\n",
    "\n",
    "    # Average Gini impurity\n",
    "    average_gini_impurity = total_gini_impurity / total_nodes\n",
    "    return average_gini_impurity"
   ]
  },
  {
   "cell_type": "code",
   "execution_count": 9,
   "metadata": {},
   "outputs": [],
   "source": [
    "from collections import Counter\n",
    "\n",
    "def calculate_average_gini_impurity_normal(graph, discovered_communities, ground_truth_communities):\n",
    "    # Create a mapping of nodes to ground truth labels\n",
    "    ground_truth_labels = {}\n",
    "    for i, ground_truth_community in enumerate(ground_truth_communities):\n",
    "        for node in ground_truth_community:\n",
    "            ground_truth_labels[node] = i  # Assign an integer label to each ground truth community\n",
    "\n",
    "    total_gini_impurity = 0\n",
    "    total_nodes = len(graph.nodes)\n",
    "\n",
    "    # Calculate Gini impurity for each discovered community\n",
    "    for community in discovered_communities:\n",
    "        # Get ground truth labels for nodes in this discovered community\n",
    "        labels = [ground_truth_labels[node] for node in community if node in ground_truth_labels]\n",
    "        if not labels:\n",
    "            continue\n",
    "\n",
    "        # Calculate label frequencies\n",
    "        label_counts = Counter(labels)\n",
    "        community_size = len(community)\n",
    "        proportions = [count / community_size for count in label_counts.values()]\n",
    "\n",
    "        # Gini impurity for this community\n",
    "        gini_impurity = 1 - sum(p**2 for p in proportions)\n",
    "\n",
    "        # Normalize the Gini impurity by its maximum value\n",
    "        k = len(label_counts)  # Number of unique labels\n",
    "        max_gini_impurity = 1 - 1 / k if k > 1 else 1  # Avoid division by zero for single-label communities\n",
    "        normalized_gini_impurity = gini_impurity / max_gini_impurity if max_gini_impurity > 0 else 0\n",
    "\n",
    "        # Weight by the size of the community\n",
    "        total_gini_impurity += len(community) * normalized_gini_impurity\n",
    "\n",
    "    # Average Gini impurity\n",
    "    average_gini_impurity = total_gini_impurity / total_nodes\n",
    "    return average_gini_impurity\n"
   ]
  },
  {
   "cell_type": "code",
   "execution_count": 5,
   "metadata": {},
   "outputs": [],
   "source": [
    "def get_ground_truth_communities(graph, label_attribute):\n",
    "    communities = defaultdict(set)\n",
    "\n",
    "    # Iterate over nodes and group them by the label\n",
    "    for node, data in graph.nodes(data=True):\n",
    "        if label_attribute in data:\n",
    "            label = data[label_attribute]\n",
    "            communities[label].add(node)\n",
    "        else:\n",
    "            raise ValueError(f\"Node {node} does not have the attribute '{label_attribute}'.\")\n",
    "\n",
    "    # Convert the grouped nodes into a list of sets\n",
    "    return list(communities.values())"
   ]
  },
  {
   "cell_type": "code",
   "execution_count": 68,
   "metadata": {},
   "outputs": [],
   "source": [
    "import networkx as nx\n",
    "import numpy as np\n",
    "\n",
    "def assortativity_null_test(graph, attribute=None, num_nulls=100):\n",
    "    if attribute:\n",
    "        observed_assortativity = nx.attribute_assortativity_coefficient(graph, attribute)\n",
    "    else:\n",
    "        observed_assortativity = nx.degree_assortativity_coefficient(graph)\n",
    "    \n",
    "    null_assortativities = []\n",
    "    for _ in range(num_nulls):\n",
    "        # Use configuration model to generate a null model preserving degree distribution\n",
    "        null_graph = nx.configuration_model([d for _, d in graph.degree()])\n",
    "        \n",
    "        # Convert back to a simple graph (removes multi-edges and self-loops)\n",
    "        null_graph = nx.Graph(null_graph)\n",
    "        null_graph.remove_edges_from(nx.selfloop_edges(null_graph))\n",
    "\n",
    "        # Assign the attributes from the original graph to the null model\n",
    "        for node in null_graph.nodes():\n",
    "            if node in graph.nodes and attribute in graph.nodes[node]:\n",
    "                null_graph.nodes[node][attribute] = graph.nodes[node][attribute]\n",
    "\n",
    "        # Calculate assortativity for the null model\n",
    "        if attribute:\n",
    "            assortativity = nx.attribute_assortativity_coefficient(null_graph, attribute)\n",
    "            #print(assortativity)\n",
    "        else:\n",
    "            assortativity = nx.degree_assortativity_coefficient(null_graph)\n",
    "        null_assortativities.append(assortativity)\n",
    "    \n",
    "    # Step 3: Calculate p-value\n",
    "    null_assortativities = np.array(null_assortativities)\n",
    "    p_value = np.mean(null_assortativities >= observed_assortativity)\n",
    "    \n",
    "    return observed_assortativity, null_assortativities, p_value"
   ]
  },
  {
   "cell_type": "code",
   "execution_count": null,
   "metadata": {},
   "outputs": [],
   "source": [
    "import networkx as nx\n",
    "import numpy as np\n",
    "from networkx.algorithms.community import modularity\n",
    "from networkx.algorithms.community import greedy_modularity_communities\n",
    "\n",
    "def modularity_null_test(graph, communities=None, num_nulls=100):\n",
    "    # Compute the observed modularity\n",
    "    if communities is None:\n",
    "        communities = list(greedy_modularity_communities(graph))\n",
    "    observed_modularity = modularity(graph, communities)\n",
    "    \n",
    "    null_modularities = []\n",
    "    for _ in range(num_nulls):\n",
    "        # Generate a null model preserving the degree distribution\n",
    "        null_graph = nx.configuration_model([d for _, d in graph.degree()])\n",
    "        \n",
    "        # Convert to a simple graph (remove multi-edges and self-loops)\n",
    "        null_graph = nx.Graph(null_graph)\n",
    "        null_graph.remove_edges_from(nx.selfloop_edges(null_graph))\n",
    "        \n",
    "        # Compute the modularity for the null model\n",
    "        null_communities = list(greedy_modularity_communities(null_graph))\n",
    "        null_modularity = modularity(null_graph, null_communities)\n",
    "        null_modularities.append(null_modularity)\n",
    "    \n",
    "    # Step 3: Calculate p-value\n",
    "    null_modularities = np.array(null_modularities)\n",
    "    p_value = np.mean(null_modularities >= observed_modularity)\n",
    "    \n",
    "    return observed_modularity, null_modularities, p_value\n"
   ]
  },
  {
   "cell_type": "code",
   "execution_count": null,
   "metadata": {},
   "outputs": [
    {
     "ename": "TypeError",
     "evalue": "modularity_null_test() got an unexpected keyword argument 'attribute'",
     "output_type": "error",
     "traceback": [
      "\u001b[1;31m---------------------------------------------------------------------------\u001b[0m",
      "\u001b[1;31mTypeError\u001b[0m                                 Traceback (most recent call last)",
      "Cell \u001b[1;32mIn[91], line 10\u001b[0m\n\u001b[0;32m      7\u001b[0m     G\u001b[38;5;241m.\u001b[39mnodes[node][\u001b[38;5;124m\"\u001b[39m\u001b[38;5;124mclub_type\u001b[39m\u001b[38;5;124m\"\u001b[39m] \u001b[38;5;241m=\u001b[39m G\u001b[38;5;241m.\u001b[39mnodes[node][\u001b[38;5;124m\"\u001b[39m\u001b[38;5;124mclub\u001b[39m\u001b[38;5;124m\"\u001b[39m]\n\u001b[0;32m      9\u001b[0m \u001b[38;5;66;03m# Perform null test for degree assortativity\u001b[39;00m\n\u001b[1;32m---> 10\u001b[0m obs_assort, null_assorts, p_val \u001b[38;5;241m=\u001b[39m \u001b[43mmodularity_null_test\u001b[49m\u001b[43m(\u001b[49m\u001b[43mG\u001b[49m\u001b[43m,\u001b[49m\u001b[43m \u001b[49m\u001b[43mattribute\u001b[49m\u001b[38;5;241;43m=\u001b[39;49m\u001b[38;5;124;43m\"\u001b[39;49m\u001b[38;5;124;43mclub_type\u001b[39;49m\u001b[38;5;124;43m\"\u001b[39;49m\u001b[43m,\u001b[49m\u001b[43m \u001b[49m\u001b[43mnum_nulls\u001b[49m\u001b[38;5;241;43m=\u001b[39;49m\u001b[38;5;241;43m100\u001b[39;49m\u001b[43m)\u001b[49m\n\u001b[0;32m     12\u001b[0m \u001b[38;5;28mprint\u001b[39m(\u001b[38;5;124mf\u001b[39m\u001b[38;5;124m\"\u001b[39m\u001b[38;5;124mObserved Assortativity: \u001b[39m\u001b[38;5;132;01m{\u001b[39;00mobs_assort\u001b[38;5;132;01m}\u001b[39;00m\u001b[38;5;124m\"\u001b[39m)\n\u001b[0;32m     13\u001b[0m \u001b[38;5;28mprint\u001b[39m(\u001b[38;5;124mf\u001b[39m\u001b[38;5;124m\"\u001b[39m\u001b[38;5;124mp-value: \u001b[39m\u001b[38;5;132;01m{\u001b[39;00mp_val\u001b[38;5;132;01m}\u001b[39;00m\u001b[38;5;124m\"\u001b[39m)\n",
      "\u001b[1;31mTypeError\u001b[0m: modularity_null_test() got an unexpected keyword argument 'attribute'"
     ]
    }
   ],
   "source": [
    "# Example Usage of assortativity null test\n",
    "# Create a graph\n",
    "G = nx.karate_club_graph()\n",
    "\n",
    "# Add a node attribute for demonstration\n",
    "for node in G.nodes():\n",
    "    G.nodes[node][\"club_type\"] = G.nodes[node][\"club\"]\n",
    "\n",
    "# Perform null test for degree assortativity\n",
    "obs_assort, null_assorts, p_val = modularity_null_test(G, communities=, num_nulls=100)\n",
    "\n",
    "print(f\"Observed Assortativity: {obs_assort}\")\n",
    "print(f\"p-value: {p_val}\")"
   ]
  },
  {
   "cell_type": "code",
   "execution_count": 76,
   "metadata": {},
   "outputs": [
    {
     "data": {
      "text/plain": [
       "dict_keys(['label_propagation', 'greedy_modularity', 'Louvain'])"
      ]
     },
     "execution_count": 76,
     "metadata": {},
     "output_type": "execute_result"
    }
   ],
   "source": [
    "graph_data[\"1_resource_allocation_naive.pkl\"].keys()"
   ]
  },
  {
   "cell_type": "code",
   "execution_count": 10,
   "metadata": {},
   "outputs": [
    {
     "name": "stdout",
     "output_type": "stream",
     "text": [
      "2_simple_disparity_filter.pkl,most_frequent_locality,greedy_modularity average gini impurity: 0.803014940170085\n",
      "2_simple_disparity_filter.pkl,most_frequent_locality,label_propagation average gini impurity: 0.5593285718184728\n",
      "2_simple_disparity_filter.pkl,most_frequent_locality,Louvain average gini impurity: 0.7381820562433361\n",
      "2_simple_disparity_filter.pkl,most_frequent_parasite_group,greedy_modularity average gini impurity: 0.8052257690311595\n",
      "2_simple_disparity_filter.pkl,most_frequent_parasite_group,label_propagation average gini impurity: 0.7195596320621135\n",
      "2_simple_disparity_filter.pkl,most_frequent_parasite_group,Louvain average gini impurity: 0.7630617092190483\n",
      "2_simple_disparity_filter.pkl,animals_group,greedy_modularity average gini impurity: 0.5835701865807364\n",
      "2_simple_disparity_filter.pkl,animals_group,label_propagation average gini impurity: 0.32499965548548865\n",
      "2_simple_disparity_filter.pkl,animals_group,Louvain average gini impurity: 0.3937366166671036\n"
     ]
    }
   ],
   "source": [
    "community_labels = [\"most_frequent_locality\",\"most_frequent_parasite_group\",\"animals_group\"]\n",
    "discovery_algorithm_labels = [\"greedy_modularity\",\"label_propagation\",\"Louvain\"]\n",
    "for name,graph in graphs.items():\n",
    "    for label in community_labels:\n",
    "        for algorithm in discovery_algorithm_labels:\n",
    "            if name == '2_simple_disparity_filter.pkl':\n",
    "                largest_component = max(nx.connected_components(graph), key=len)\n",
    "                largest_component_subgraph = graph.subgraph(largest_component)\n",
    "\n",
    "                ground_truth_communities = get_ground_truth_communities(largest_component_subgraph,label)\n",
    "                algorithm_communities = graph_data[name][algorithm]['communities']\n",
    "                print(f\"{name},{label},{algorithm} average gini impurity: {calculate_average_gini_impurity_normal(largest_component_subgraph,algorithm_communities,ground_truth_communities)}\")\n"
   ]
  },
  {
   "cell_type": "code",
   "execution_count": 50,
   "metadata": {},
   "outputs": [],
   "source": [
    "def assign_community_attributes(graph, communities, attribute_name=\"community\"):\n",
    "    for community_id, community in enumerate(communities):\n",
    "        for node in community:\n",
    "            graph.nodes[node][attribute_name] = community_id\n"
   ]
  },
  {
   "cell_type": "code",
   "execution_count": null,
   "metadata": {},
   "outputs": [],
   "source": [
    "assortativity_tests = {}\n",
    "modularity_tests = {}\n",
    "discovery_algorithm_labels = [\"greedy_modularity\",\"label_propagation\",\"Louvain\"]\n",
    "for name,graph in graphs.items():\n",
    "    for algo in discovery_algorithm_labels:\n",
    "        #assortativity_tests[f\"{name}_{label}\"]=assortativity_null_test(graph,f\"{label}\")\n",
    "        communities = graph_data[name][algo]['communities']\n",
    "        modularity_tests[f\"{name}_{label}\"]=modularity_null_test(graph,communities)\n",
    "        print(modularity_tests[f\"{name}_{label}\"])"
   ]
  },
  {
   "cell_type": "code",
   "execution_count": 26,
   "metadata": {},
   "outputs": [
    {
     "name": "stdout",
     "output_type": "stream",
     "text": [
      "[frozenset({4097, 3, 4107, 4111, 14356, 4130, 20517, 20519, 58, 72, 4171, 20561, 20568, 89, 20571, 4204, 20592, 4209, 4211, 24693, 20600, 20607, 20609, 4226, 4235, 24718, 4244, 24724, 149, 20647, 24765, 16574, 20671, 14531, 16580, 24775, 24776, 28880, 20695, 2270, 16612, 24804, 20711, 28909, 20718, 24819, 248, 28926, 20743, 20747, 10513, 20754, 10514, 24858, 16668, 14633, 28973, 28974, 24879, 10553, 24897, 321, 24899, 14660, 324, 14664, 29001, 10571, 20816, 10578, 10582, 14679, 10584, 10585, 20829, 29023, 24931, 8549, 10601, 364, 14707, 24949, 10615, 10620, 8573, 383, 10628, 24965, 20883, 29075, 407, 8603, 10654, 20894, 24992, 24995, 24999, 8623, 10672, 8630, 10685, 8639, 10688, 27074, 20931, 8651, 10702, 25043, 10708, 10709, 10717, 29159, 10729, 2539, 20971, 20975, 20979, 10744, 29177, 10756, 4612, 4614, 4616, 2571, 531, 29206, 29207, 21018, 21019, 29214, 29218, 21033, 560, 21049, 14908, 10813, 27200, 10817, 14914, 579, 23117, 21073, 21076, 10838, 21080, 21083, 29277, 29278, 21087, 8800, 29281, 29280, 614, 21096, 21100, 27247, 10876, 27272, 27274, 10893, 21141, 29338, 21157, 21172, 10938, 19135, 29387, 10960, 21200, 29394, 21201, 21205, 19162, 10973, 29407, 2789, 2796, 2799, 29436, 775, 29450, 21261, 790, 27415, 29464, 27418, 27420, 27422, 810, 29484, 2881, 27464, 27467, 29521, 27475, 29529, 21337, 23387, 27487, 29535, 4963, 27497, 27500, 19309, 882, 29558, 21366, 21368, 21373, 27517, 27519, 27520, 27521, 29569, 21382, 25483, 27535, 25490, 21394, 25503, 29609, 21419, 27563, 27567, 25520, 23474, 29627, 19388, 19389, 25538, 25540, 25544, 25545, 25547, 19407, 29647, 19414, 19422, 29664, 25570, 21476, 21481, 19433, 25579, 21494, 27640, 3067, 27644, 25597, 25604, 21508, 1029, 21510, 25606, 25608, 29703, 29704, 25616, 29717, 25627, 25630, 25631, 25635, 29734, 27692, 25644, 21548, 27696, 9270, 21560, 29773, 29779, 29787, 3164, 21608, 17512, 21612, 21625, 29825, 21635, 21638, 25735, 19594, 19598, 29842, 1172, 25748, 21652, 25752, 19612, 19619, 29863, 21673, 21675, 3247, 21683, 19638, 1211, 29886, 19647, 29896, 1225, 1226, 21707, 29901, 19662, 19663, 29920, 21733, 29927, 21737, 29932, 7407, 29939, 19707, 21787, 9507, 9509, 7466, 9528, 21816, 7481, 21818, 7484, 21821, 9535, 19777, 19778, 19785, 19788, 21839, 7505, 21842, 19801, 21849, 9565, 19810, 7526, 7527, 7529, 19828, 9591, 21881, 21897, 5536, 19883, 5550, 19921, 19940, 19941, 19944, 19949, 19957, 26103, 9723, 11773, 19966, 19975, 9738, 3596, 3601, 9751, 19992, 9753, 19994, 19995, 19997, 20004, 7717, 20009, 3629, 1584, 3651, 20041, 3658, 20043, 20044, 20045, 20046, 3667, 1625, 20058, 3673, 5723, 3677, 3678, 9824, 20081, 20089, 28288, 3713, 20098, 3719, 20103, 28305, 20113, 20114, 20117, 20119, 28317, 28321, 28334, 22193, 1714, 1715, 28341, 1719, 1723, 28350, 28352, 11971, 3792, 30418, 26328, 3802, 3803, 12020, 20221, 12040, 10001, 12052, 22292, 16151, 3866, 12059, 10013, 12065, 12067, 3878, 10028, 12088, 18232, 18234, 10043, 18239, 12096, 18244, 18245, 3918, 18257, 10067, 3925, 3928, 10075, 18269, 3935, 12128, 10080, 10081, 3938, 12136, 1897, 12137, 3960, 10105, 6010, 10107, 18302, 18304, 18305, 22400, 22404, 18309, 3974, 3976, 3986, 16279, 26522, 3994, 10144, 10146, 18339, 20394, 10155, 4012, 18351, 20402, 4028, 10173, 4032, 4039, 10186, 22484, 10201, 22489, 22496, 10210, 22508, 4092}), frozenset({12288, 23041, 23042, 12804, 8713, 1545, 9743, 18459, 18460, 2588, 18461, 22049, 6697, 20531, 563, 52, 18485, 18487, 18488, 4152, 29243, 8766, 12863, 22594, 25156, 15941, 4684, 22610, 21588, 20567, 29783, 3159, 29276, 4701, 4703, 4704, 21089, 12386, 22111, 29796, 2157, 110, 22127, 29810, 21106, 12917, 9848, 22138, 19580, 4737, 21634, 4741, 4744, 4745, 21130, 19600, 12951, 22685, 22687, 21663, 4769, 29346, 22689, 22690, 4772, 22691, 29350, 29352, 17065, 12461, 16561, 12465, 27316, 12981, 12470, 12983, 19640, 27317, 21177, 12479, 12481, 28353, 23038, 12487, 20169, 17099, 8907, 22733, 22734, 1743, 20176, 1233, 20180, 4822, 4823, 8918, 217, 24791, 20185, 22745, 20187, 12508, 20186, 12506, 19674, 1245, 19677, 19684, 17125, 27368, 4840, 746, 17642, 20204, 29929, 751, 8944, 20208, 4341, 4342, 20214, 1270, 762, 1274, 8957, 4863, 1280, 8961, 4866, 8964, 20230, 4873, 17676, 19727, 4879, 20241, 13074, 22804, 22805, 4885, 22807, 4888, 10006, 20249, 1305, 10009, 11037, 10011, 12054, 17183, 21793, 22821, 1318, 1320, 1322, 13099, 20270, 4912, 17713, 13106, 4915, 4922, 12603, 12604, 4925, 3389, 12100, 7498, 29515, 12619, 10061, 20302, 10062, 21330, 21331, 27477, 20822, 27479, 22871, 22874, 27494, 28009, 21362, 10614, 10624, 18310, 18314, 22928, 12693, 22937, 7583, 20897, 12706, 21414, 936, 9130, 28075, 9131, 14254, 19377, 28082, 19902, 29631, 20416, 21954, 20934, 968, 22477, 29648, 23000, 23003, 4064, 23011, 21989, 23014, 23015, 23017, 21993, 23020, 1005, 12792, 19454, 23039}), frozenset({13825, 5122, 19460, 13831, 16903, 13833, 13834, 8204, 17933, 8205, 6163, 6678, 16920, 19480, 22047, 16928, 13356, 13358, 15407, 11824, 26161, 13363, 19509, 11831, 5688, 19513, 11834, 13372, 6213, 18503, 15433, 27725, 1106, 27731, 27730, 6741, 9302, 22616, 5212, 5216, 5219, 13411, 28261, 22122, 5226, 15467, 13422, 11892, 13431, 25208, 25209, 13436, 14465, 10370, 18566, 11912, 17544, 19086, 15510, 19106, 10404, 19108, 5284, 1704, 15533, 10421, 17082, 13503, 26306, 5827, 9415, 5327, 5328, 5330, 19155, 23262, 23263, 19694, 13551, 15601, 1267, 12025, 26364, 5376, 14084, 2831, 9487, 19216, 2835, 13590, 13592, 30003, 12084, 6461, 13119, 19264, 2884, 27973, 19272, 19273, 12106, 13644, 16720, 2897, 15699, 6484, 6488, 6489, 15707, 7003, 7004, 17246, 5471, 13153, 6500, 2916, 16741, 2919, 1385, 2921, 17264, 17265, 2928, 2932, 4981, 2933, 13688, 9592, 15737, 15738, 8059, 4990, 9600, 4481, 17289, 17300, 13718, 26519, 13721, 4508, 2973, 1438, 1439, 16800, 5023, 23456, 4511, 4522, 6060, 13740, 23472, 23473, 946, 433, 15796, 2997, 9658, 8122, 14778, 14780, 6078, 13249, 1992, 26057, 18888, 13772, 6097, 9683, 14804, 30163, 30164, 15839, 13794, 13285, 5616, 6133, 5110, 16889, 9211, 7679}), frozenset({12800, 26628, 13316, 1542, 30221, 19477, 19478, 3096, 30234, 7712, 15904, 3105, 12322, 15905, 3107, 13347, 9765, 5166, 15412, 26691, 26693, 26699, 15443, 9813, 9823, 98, 11875, 19056, 2675, 19060, 19062, 9849, 15997, 9855, 18560, 15488, 17027, 15494, 9872, 24223, 10401, 10403, 12452, 24229, 9893, 9894, 9895, 10412, 9901, 9902, 10414, 9905, 9908, 19127, 17084, 10428, 19133, 17090, 9923, 9924, 9927, 9928, 9929, 2250, 10443, 21196, 23752, 9931, 9932, 30407, 13518, 23754, 13520, 19665, 13521, 23753, 13012, 28367, 10448, 17619, 28377, 28379, 17115, 17627, 17119, 10463, 9954, 9957, 10472, 9963, 10476, 13550, 10479, 9968, 9969, 13554, 6898, 9972, 10486, 30454, 24575, 16124, 15101, 9982, 13568, 13570, 17155, 19205, 19717, 13575, 19718, 17161, 17163, 17164, 2318, 13585, 23324, 19757, 28472, 23360, 23364, 23371, 23375, 13654, 14166, 3416, 20316, 20317, 20318, 2396, 20320, 20321, 14175, 14177, 23397, 20326, 23402, 3444, 17275, 14209, 13188, 18821, 5511, 23435, 18833, 14225, 15763, 15765, 9622, 28055, 23452, 12191, 8096, 12192, 14240, 26538, 427, 26545, 16305, 9653, 14788, 9668, 28110, 2006, 27118, 23025, 12798, 19455}), frozenset({20998, 21003, 25101, 14, 8719, 21528, 21531, 1052, 1054, 29220, 29222, 29740, 21550, 29746, 25659, 21571, 20551, 14928, 21084, 24677, 21095, 20584, 29801, 24685, 29805, 24687, 20599, 2167, 25720, 20090, 24700, 21117, 25733, 19592, 20616, 25739, 21644, 21649, 21650, 27283, 21653, 19606, 21142, 27288, 21659, 27291, 21159, 21161, 21166, 10927, 21169, 10929, 20658, 21688, 29376, 20673, 21696, 21698, 21193, 20681, 721, 16595, 28885, 27355, 28892, 24796, 21213, 24805, 19687, 24823, 28922, 21250, 20741, 20745, 779, 28948, 795, 21285, 20775, 9515, 20780, 21806, 20787, 29497, 25403, 20796, 21824, 12098, 21826, 21318, 18253, 21837, 25936, 21329, 29013, 27478, 18263, 24920, 19803, 24923, 21344, 20833, 24929, 19809, 21860, 25956, 10600, 21354, 21355, 21872, 10608, 24946, 19831, 21885, 21886, 10112, 24963, 29571, 21895, 20871, 3977, 29582, 27539, 24984, 3993, 24985, 29080, 29083, 29085, 21416, 10153, 19374, 29106, 19378, 22964, 10681, 20413, 22463, 20422, 10698, 21451, 10703, 25555, 20947, 19411, 19413, 22486, 22488, 10713, 19929, 10715, 10719, 19423, 24546, 20452, 29668, 19431, 25580, 19439, 20463, 25584, 20468}), frozenset({27648, 29697, 29705, 2570, 29200, 25110, 19990, 20510, 20511, 1056, 25120, 25126, 21544, 25129, 25130, 21035, 25133, 29232, 29745, 26167, 22587, 25159, 29258, 29260, 29261, 29777, 29781, 20056, 29274, 29793, 29794, 27244, 24689, 29297, 21622, 24699, 29310, 21633, 24711, 29321, 29834, 2185, 24720, 28837, 29861, 21678, 28846, 21680, 28853, 29367, 28859, 1735, 28878, 28879, 29905, 28883, 28886, 28887, 28888, 24793, 28893, 19683, 29412, 25079, 28903, 16616, 24809, 29418, 29928, 24810, 27379, 29429, 27381, 29946, 28923, 24827, 27391, 18177, 21761, 29442, 22283, 29451, 24844, 29454, 272, 20756, 24854, 24862, 29476, 24869, 16678, 29479, 16681, 27444, 28984, 25401, 28991, 29503, 18241, 25409, 27458, 24901, 21838, 22354, 22356, 10078, 26974, 24927, 14688, 21858, 29542, 25447, 24936, 29546, 24942, 19824, 20850, 24950, 20854, 24952, 27511, 14714, 21890, 27522, 24966, 21384, 22411, 21396, 24989, 24990, 29092, 24998, 19879, 18345, 27566, 18356, 25013, 27583, 29119, 25024, 27587, 29125, 27593, 25033, 25035, 29644, 19404, 25040, 20441, 28125, 20966, 25065, 19950, 27631, 25073, 29687, 25080, 27646}), frozenset({5131, 5133, 26127, 13333, 5657, 26137, 13337, 19485, 14366, 9258, 7213, 19503, 20018, 30264, 26168, 7225, 7227, 30269, 19007, 30275, 30276, 30277, 30278, 30279, 5700, 19528, 19531, 26193, 23121, 23122, 24664, 24673, 30306, 18531, 9316, 20069, 6246, 23143, 20072, 18538, 6250, 1131, 20077, 9327, 18546, 6268, 1155, 13445, 24210, 24211, 24212, 24213, 25238, 9366, 24214, 25237, 17561, 28826, 17563, 6302, 26271, 17568, 17577, 6322, 26293, 26296, 6330, 6332, 24252, 6337, 27841, 15555, 15507, 24277, 24286, 5872, 15092, 15094, 15095, 28406, 6400, 6402, 15107, 15109, 6417, 23315, 6420, 23316, 6934, 5399, 13593, 16156, 6428, 6430, 29984, 15143, 21289, 26925, 15151, 20271, 15154, 26423, 30011, 6467, 25928, 1866, 25931, 26954, 1891, 4964, 15205, 12131, 6504, 23400, 19307, 4976, 17777, 6515, 20340, 4986, 4987, 4999, 5009, 1430, 5528, 9629, 23454, 28576, 27047, 12201, 26029, 26032, 7601, 5558, 951, 5562, 22978, 14275, 30153, 970, 9675, 18889, 26574, 24528, 15824, 26073, 18928, 18929, 26098}), frozenset({25600, 27650, 8710, 8712, 19977, 4104, 29707, 4105, 2575, 10768, 29201, 4113, 8725, 533, 21530, 6182, 4136, 10792, 3624, 8749, 20544, 20033, 24641, 25674, 5709, 1621, 21079, 1623, 3169, 10850, 8805, 3174, 21107, 8819, 29303, 29819, 10879, 29824, 26753, 21637, 5782, 28828, 26781, 5790, 26783, 29855, 26300, 10959, 29393, 10966, 10967, 29403, 16611, 7397, 16613, 2279, 3815, 7405, 3822, 29936, 7411, 7412, 2805, 7415, 7418, 7420, 27394, 7427, 28933, 7429, 7431, 7433, 21770, 7435, 7438, 29467, 21798, 7472, 7473, 29490, 7476, 7477, 12085, 12092, 21822, 21312, 20801, 9538, 7492, 3909, 21831, 10575, 10589, 10591, 864, 27490, 10594, 10596, 29548, 7534, 7543, 7544, 21386, 7564, 7568, 7569, 18325, 1431, 7578, 29597, 18336, 25506, 4004, 8620, 18865, 10684, 8641, 20932, 20420, 19398, 22471, 20936, 22472, 18375, 8647, 20941, 4049, 8662, 29661, 4580, 19432, 10731, 19436, 8697}), frozenset({14342, 22025, 22540, 1550, 22543, 22544, 1553, 20, 1557, 23573, 1559, 23575, 9242, 17916, 22557, 2077, 9248, 22564, 9252, 9254, 5671, 6181, 23593, 22572, 22573, 23601, 6194, 22579, 22580, 22582, 23611, 26185, 26702, 26191, 8276, 8278, 8279, 19554, 17526, 14967, 14973, 14975, 14976, 14979, 13448, 18568, 18571, 14989, 13966, 13462, 13975, 18582, 18071, 15001, 18585, 18583, 15005, 18589, 15014, 24232, 25769, 25770, 25773, 11950, 25775, 1201, 14520, 11961, 25791, 28357, 22222, 22227, 14041, 25830, 25835, 25836, 14059, 25848, 18690, 2820, 15113, 27925, 14105, 1819, 14112, 1824, 14113, 10022, 14118, 25902, 19761, 23858, 16180, 23866, 21311, 23873, 16234, 30058, 16238, 28530, 28532, 5519, 5520, 5521, 5523, 5524, 5525, 12186, 12187, 14242, 14244, 26021, 4535, 2490, 4538, 4543, 4544, 24516, 24011, 27105, 23521, 18913, 18914, 7144, 19435, 26097, 6130, 6131, 6135, 9721, 1532, 6141, 17918}), frozenset({5634, 17924, 28677, 24582, 29188, 28692, 28694, 24598, 24095, 1570, 24611, 1572, 24100, 1577, 24619, 24620, 14382, 24116, 1590, 24122, 1598, 24639, 16449, 16450, 1614, 25684, 26196, 28756, 24661, 24662, 24663, 1628, 24162, 26212, 27751, 1640, 14446, 24187, 18043, 24189, 18045, 18047, 1664, 24201, 1673, 24209, 1684, 14503, 1710, 14510, 24240, 14523, 24290, 14579, 14580, 24307, 14585, 27898, 1790, 24326, 24327, 25595, 24341, 14619, 23835, 23839, 24357, 6442, 23853, 24370, 24887, 24382, 25408, 25413, 25414, 25419, 24399, 24405, 24918, 24411, 24412, 24413, 24416, 24418, 23907, 24421, 23912, 23913, 23914, 23917, 23918, 880, 29042, 23923, 29050, 23931, 23934, 23937, 23938, 23940, 15243, 24466, 23965, 24483, 24484, 24486, 2470, 20904, 2473, 24507, 27072, 24517, 23503, 24023, 24540, 5596, 14302, 28640, 28647, 24556, 24557, 24561, 24571, 24573}), frozenset({26113, 29698, 20996, 25611, 29708, 27661, 29197, 25615, 29199, 29714, 29723, 29733, 4141, 27695, 25648, 14385, 14386, 25651, 25141, 25142, 25148, 25666, 10835, 21589, 29782, 25686, 29784, 27226, 21091, 29283, 2159, 25724, 21119, 2175, 21122, 29830, 24712, 16013, 21668, 24743, 21677, 24753, 21686, 16567, 28348, 28349, 1214, 21191, 16586, 29914, 11998, 14558, 29421, 24814, 29424, 29428, 757, 22265, 29438, 29439, 1792, 29440, 10508, 19748, 29478, 21812, 24889, 18233, 829, 21823, 21828, 21830, 27465, 29518, 20817, 9553, 27482, 27484, 25440, 29538, 29539, 21863, 19818, 22380, 21874, 19827, 7539, 29556, 22388, 19829, 14710, 27510, 18312, 24969, 18315, 22414, 24977, 25493, 25497, 24987, 24991, 29090, 25507, 19884, 27571, 29107, 29625, 29629, 25534, 29630, 19393, 27591, 22480, 25558, 19425, 6117, 20458, 20459, 27632, 29172, 29684, 27643, 25596, 19967}), frozenset({30213, 27665, 27667, 6681, 9767, 23083, 28204, 28207, 23087, 28209, 26682, 26684, 27203, 26696, 12876, 26701, 28240, 12884, 22613, 14935, 26711, 23130, 23131, 16987, 15455, 17022, 17024, 17025, 17026, 17028, 23684, 15502, 17055, 23711, 25760, 25767, 25768, 17070, 27830, 19128, 19129, 19130, 17094, 10449, 28371, 10467, 10468, 30437, 10469, 23784, 23788, 23789, 23790, 30447, 23794, 30451, 27893, 19702, 26368, 27906, 26370, 26371, 30479, 26396, 20252, 23837, 22835, 27976, 17226, 27993, 17242, 14172, 17245, 17249, 20322, 26467, 26479, 20337, 20339, 26491, 3451, 23421, 26495, 26496, 26497, 14724, 28058, 28060, 17312, 30113, 1955, 14756, 14757, 14758, 30122, 30123, 30124, 30125, 30126, 435, 437, 439, 440, 22980, 22984, 28134, 28135, 28136, 13289, 28137, 28139, 2028, 28140, 28142, 28143, 28144, 13297, 13296, 12285}), frozenset({23554, 26632, 23051, 10261, 19488, 27174, 13872, 10288, 10290, 14387, 23090, 10293, 9788, 10310, 16455, 18001, 9810, 22625, 13933, 13934, 13935, 17524, 22650, 10362, 14458, 16518, 13959, 13963, 18572, 18573, 12430, 22667, 10380, 18577, 18578, 14991, 19090, 18581, 19093, 15509, 12944, 18588, 25244, 16039, 12455, 25780, 2241, 17089, 25798, 25799, 15570, 25825, 13036, 19692, 22766, 23283, 22801, 13587, 29973, 13078, 29974, 4889, 4892, 19742, 19237, 4907, 4909, 12599, 12600, 12602, 22849, 14147, 15174, 13139, 13140, 12629, 12632, 12634, 22889, 2922, 13172, 13173, 18819, 28552, 10634, 14732, 9613, 14736, 20369, 4498, 13207, 15771, 13213, 4512, 13730, 9640, 13226, 14765, 14766, 13229, 12727, 12217, 3002, 12739, 13258, 12235, 13259, 9690, 17882, 28124, 9706, 23530, 15343, 23024, 9716, 19446, 11262}), frozenset({28675, 11780, 11782, 11783, 15386, 1058, 13352, 27693, 2101, 22083, 19523, 11335, 22601, 17485, 11344, 11346, 13399, 11352, 13401, 30304, 22139, 11905, 18063, 14494, 4254, 14499, 14500, 11440, 11959, 22200, 11448, 22205, 11466, 4298, 4301, 4307, 27865, 10976, 10981, 15589, 15078, 18152, 11498, 28402, 10999, 11515, 11003, 11010, 11011, 11012, 11013, 11015, 11016, 11017, 11018, 11026, 16660, 11540, 11542, 28442, 6435, 4395, 28462, 6446, 6447, 4401, 11574, 4407, 11576, 4409, 11578, 11579, 4412, 4413, 4414, 11575, 24397, 11604, 16230, 11624, 4465, 15223, 20348, 15256, 21928, 12204, 21937, 11699, 30134, 11703, 15799, 11702, 11704, 11705, 11707, 11708, 11709, 15803, 956, 14785, 12226, 14786, 11721, 30161, 24538, 21979, 21980, 11745, 24034, 7662, 7155, 7670, 27127, 11256, 24058, 11775}), frozenset({16402, 30237, 12325, 12329, 12842, 7211, 12844, 5164, 12334, 12338, 12340, 5692, 5192, 5196, 12878, 12879, 12880, 5199, 19043, 19046, 14953, 9836, 16495, 2671, 15472, 9842, 12915, 12411, 15484, 12932, 16523, 16526, 12945, 22679, 22681, 9883, 12443, 25759, 10406, 10413, 23730, 10420, 10422, 10423, 10424, 10426, 10427, 10430, 10431, 10432, 10434, 10435, 10436, 10437, 13517, 13519, 13015, 4825, 17628, 13029, 13031, 9962, 9967, 13558, 13561, 13562, 13050, 13565, 13060, 13061, 22790, 22791, 28424, 28425, 17674, 28429, 22797, 22799, 28431, 17173, 13080, 13084, 17182, 13086, 13087, 23327, 12582, 13094, 13096, 17711, 17715, 22847, 17229, 3412, 13144, 3426, 22888, 3432, 3435, 22908, 12673, 13186, 13187, 13202, 30099, 22931, 12188, 14239, 8098, 421, 6128, 12276}), frozenset({16385, 9730, 9732, 30223, 19483, 4127, 16930, 11810, 27682, 19493, 19494, 10277, 6696, 21546, 19501, 19510, 15934, 27716, 26192, 1616, 20055, 27735, 20573, 7264, 25187, 7267, 10350, 25201, 10872, 8316, 1672, 1674, 20120, 1191, 3250, 22708, 3786, 1741, 26326, 22743, 22232, 6361, 6362, 5340, 3295, 3300, 18677, 3320, 14075, 6909, 23812, 6918, 17681, 17682, 26900, 26391, 26393, 1307, 10527, 21796, 14119, 14120, 3884, 3373, 5420, 20280, 2874, 25916, 26942, 20288, 20292, 6470, 13648, 20307, 4952, 26973, 2926, 390, 4489, 10124, 21908, 16788, 6039, 413, 2982, 16296, 14259, 7615, 448, 7617, 453, 10182, 1990, 454, 10185, 461, 23504, 23505, 27096, 5593, 2524, 16349, 3038, 7132, 27102, 3556, 14825, 10223, 17395, 16376, 16379}), frozenset({10243, 14343, 26159, 23599, 19008, 67, 19525, 6232, 19544, 27756, 22636, 28268, 26230, 28279, 14461, 14467, 26251, 14479, 5264, 13969, 7827, 22163, 27284, 17558, 27287, 26774, 18587, 24228, 16040, 6315, 22199, 24760, 14535, 14537, 11995, 22243, 15076, 23269, 24297, 24300, 22764, 24301, 5366, 23818, 25356, 23309, 25879, 22301, 15134, 15137, 5413, 1838, 2868, 15161, 24386, 22353, 8026, 25955, 30056, 25961, 22890, 4468, 29044, 29049, 22907, 29053, 29054, 29056, 15233, 15235, 9092, 29060, 9094, 29063, 10633, 6032, 9106, 15253, 9110, 2968, 15262, 15264, 3488, 29602, 15269, 15270, 22441, 26027, 22443, 15281, 15285, 15295, 15297, 23491, 28102, 15817, 15309, 24017, 28120, 28121, 9694, 14307, 20963, 17899, 17901, 15348, 15349, 26109}), frozenset({512, 19463, 3086, 23571, 22555, 22556, 22568, 42, 21039, 21040, 3121, 1588, 7221, 17974, 15415, 25150, 7231, 16960, 16970, 16972, 16973, 7246, 26190, 24150, 15960, 24153, 22106, 28764, 24156, 23645, 24159, 30301, 5234, 28790, 28801, 28802, 28803, 7303, 28808, 26763, 27791, 11930, 26778, 16550, 2732, 2733, 23215, 24241, 4277, 25276, 29374, 25279, 30405, 9414, 1230, 27857, 25300, 1237, 7386, 1244, 27872, 22242, 229, 23782, 22250, 19690, 24311, 26892, 17167, 30480, 25361, 8466, 8467, 8468, 787, 2334, 19744, 27947, 23340, 17198, 19759, 815, 17210, 17212, 28995, 10055, 22344, 23378, 17237, 5474, 30054, 7027, 23427, 28549, 23944, 18316, 15777, 2466, 16830, 1476, 1479, 21961, 13775, 28626, 24549, 19448, 22013, 22014}), frozenset({25090, 25605, 29190, 10772, 25112, 21030, 29739, 10798, 21048, 25658, 21578, 29268, 25692, 21090, 24683, 27243, 29809, 29818, 27258, 21118, 29823, 10882, 29827, 29316, 21639, 25746, 21140, 2197, 29849, 21661, 27318, 27329, 29903, 19672, 28895, 29919, 741, 27372, 24825, 27390, 21248, 24834, 27395, 24835, 29446, 29448, 21772, 29458, 21778, 29459, 16665, 29472, 24864, 21284, 20773, 24871, 24873, 20778, 24876, 20781, 24884, 27449, 25402, 21834, 24912, 24913, 29008, 29017, 29018, 21341, 14686, 29024, 29537, 24930, 21871, 24947, 27507, 21878, 22393, 24953, 24954, 20863, 22405, 20870, 21906, 20898, 29102, 25526, 18370, 22466, 28127, 25056, 25059, 29667, 25061, 25583, 29690, 24059, 2556, 29182}), frozenset({16, 11797, 14361, 7195, 6186, 9276, 20032, 69, 16470, 16475, 7774, 16480, 20066, 28791, 13440, 17537, 18049, 14988, 1166, 18593, 22177, 18595, 25250, 9379, 23206, 15015, 7848, 30376, 15018, 16041, 23210, 9386, 5294, 11439, 18613, 10941, 5309, 15557, 9424, 15569, 30425, 7906, 7907, 240, 10489, 10490, 19709, 24318, 9479, 9484, 19728, 19731, 11032, 21278, 28452, 1317, 809, 15147, 21297, 12083, 21299, 21301, 10559, 14148, 20808, 2890, 6986, 6987, 19275, 5458, 2900, 2909, 20838, 18596, 16258, 9604, 9611, 9616, 26516, 26523, 19362, 7589, 7081, 18869, 4534, 3000, 30156, 9681, 9688, 9689, 3548, 12259, 12782, 12785, 12786, 17912, 16890, 17404}), frozenset({27136, 12317, 26149, 19498, 27180, 4661, 4663, 4664, 3130, 4667, 27196, 27197, 3135, 3138, 3141, 23111, 23124, 14934, 23136, 25188, 22637, 25200, 23667, 23668, 8313, 8321, 8322, 23686, 23698, 23720, 17068, 23734, 22726, 23241, 13019, 8924, 23774, 8927, 13024, 13032, 13034, 17148, 17150, 5891, 29966, 29970, 17686, 18725, 25382, 13097, 19756, 27952, 28475, 18752, 18753, 18754, 13122, 22852, 13132, 13147, 13148, 4959, 17266, 12676, 14726, 14728, 14729, 14735, 14737, 14742, 14744, 22938, 28065, 28066, 13218, 23462, 9641, 9642, 9645, 12722, 14771, 12724, 22969, 13247, 12736, 28097, 8129, 12737, 28100, 13255, 22996, 28118, 22998, 28119, 22518, 22520}), frozenset({22530, 27141, 15365, 23558, 10252, 11791, 10265, 10268, 10270, 15403, 27709, 24133, 19526, 24134, 16453, 23623, 24141, 22607, 23635, 11876, 14439, 14440, 23152, 11377, 26224, 6262, 17014, 13944, 6269, 13952, 17546, 22157, 14477, 17559, 14488, 10393, 11946, 18100, 25782, 14010, 23229, 22220, 14542, 18645, 18661, 6890, 23274, 6892, 23275, 6893, 25838, 23276, 23277, 19697, 23278, 25850, 2813, 25855, 14615, 16154, 11570, 26935, 14157, 17742, 4445, 5475, 30063, 15224, 19320, 19337, 19338, 19339, 19340, 19341, 19342, 19343, 19344, 19345, 19348, 9112, 19357, 19369, 17343, 26050, 9687, 17369, 12252, 12255, 10213, 9704, 16876, 17396, 17397, 11764, 19444}), frozenset({2566, 19974, 6667, 25620, 25125, 25640, 27690, 25137, 25680, 18021, 2171, 29307, 29308, 29309, 25740, 22669, 24728, 9376, 9377, 9381, 20134, 20135, 20139, 9391, 22724, 1234, 8914, 30426, 1794, 22275, 23304, 782, 23313, 28953, 289, 22307, 22313, 298, 9518, 20274, 20275, 9527, 311, 19769, 24893, 22338, 19781, 10574, 2895, 24914, 25427, 2899, 19800, 22363, 22368, 22384, 3953, 25459, 25461, 2942, 2950, 22409, 10129, 9617, 25494, 19863, 19867, 29596, 19872, 19873, 19875, 25508, 7077, 22450, 25530, 19905, 10184, 29641, 29643, 29645, 28109, 19925, 19927, 19931, 19932, 19934, 22503, 25577, 22507, 22515, 19959, 6654}), frozenset({27137, 7191, 13859, 13860, 13861, 13862, 13863, 13864, 13865, 13866, 13874, 13879, 8249, 5696, 5698, 13388, 13423, 11895, 11896, 11898, 11899, 11907, 17540, 11909, 11910, 26246, 19080, 11913, 26257, 26258, 13974, 7831, 30363, 13982, 13983, 15008, 26278, 25772, 22208, 23240, 25297, 14034, 25823, 18670, 25839, 25841, 24313, 6394, 24315, 14596, 18695, 15114, 16654, 16144, 16657, 16658, 16659, 5396, 14102, 25886, 14125, 14127, 14128, 19263, 9566, 4518, 18857, 4524, 4526, 6576, 6578, 6580, 18871, 18873, 18876, 26557, 7614, 3010, 6595, 7622, 23496, 24524, 5078, 7639, 7641, 7645, 9702, 24565, 24566, 24568}), frozenset({18435, 6154, 5643, 15380, 22040, 26144, 11811, 24613, 11306, 9770, 13868, 22061, 11323, 11325, 13383, 11342, 11343, 18521, 14428, 6241, 9825, 13428, 13954, 24195, 6291, 6293, 11423, 5282, 13989, 13991, 13992, 4282, 9926, 20167, 14026, 14027, 14030, 11475, 11481, 11483, 11484, 11485, 9950, 11486, 14047, 18658, 11491, 15080, 11497, 14062, 24818, 11511, 10496, 11526, 11539, 13088, 13089, 11564, 11596, 11085, 15200, 5479, 12648, 11625, 12652, 4469, 4470, 28539, 15239, 15252, 12184, 16828, 15293, 11209, 11733, 15337, 6137}), frozenset({15872, 8451, 14601, 11019, 11276, 26253, 27022, 20367, 4372, 23833, 24345, 13465, 16539, 16540, 27167, 15267, 17956, 4645, 17958, 17960, 16172, 15405, 13870, 14513, 7090, 15923, 15925, 13881, 14462, 28603, 27068, 15294, 4287, 11072, 13889, 14402, 24387, 24388, 14404, 24390, 2496, 14533, 14410, 18122, 14413, 14029, 14286, 14288, 6995, 6996, 18004, 14035, 14803, 24152, 6869, 18901, 6871, 11735, 24157, 26069, 11734, 14435, 14437, 24294, 6511, 15856, 15857, 16244, 27128, 11002, 4475, 11645, 16254, 14463}), frozenset({29954, 11396, 11397, 11399, 1160, 904, 11402, 4364, 18957, 4367, 18964, 22039, 4632, 21913, 11290, 9885, 11040, 11298, 11427, 11429, 4264, 21929, 21932, 11054, 21935, 22064, 11698, 22067, 22068, 11059, 11060, 825, 442, 15547, 8895, 2624, 11712, 6466, 11333, 965, 22088, 11465, 4426, 21964, 4429, 4430, 11599, 11088, 11089, 1105, 11600, 11602, 1360, 14799, 5975, 11473, 14802, 21971, 21972, 11479, 8156, 6624, 19304, 11370, 4462, 5103, 11636, 22133, 22134, 11637, 4346, 30076, 4349, 22015}), frozenset({4864, 27905, 22912, 22787, 22788, 27907, 4869, 4871, 22913, 6275, 23050, 22916, 22917, 22920, 22672, 8959, 3094, 12827, 22683, 17693, 22814, 12831, 12700, 10397, 9119, 22822, 6313, 7722, 30121, 429, 22834, 23091, 20146, 23731, 23094, 10419, 23096, 22968, 20154, 26428, 26429, 12865, 26690, 12867, 26697, 22865, 17622, 22619, 27902, 13408, 19041, 4833, 20323, 13415, 14185, 22894, 15470, 4718, 4720, 8306, 15474, 10482, 8949, 27894, 22647, 4858, 4859, 16766, 22911}), frozenset({13824, 9601, 22148, 14086, 18055, 17926, 17929, 10506, 4491, 23564, 18703, 11029, 24342, 16023, 28825, 13849, 18713, 17948, 17949, 17950, 17823, 25377, 17825, 17827, 5157, 3368, 19113, 6701, 2991, 21942, 17977, 16955, 23612, 17983, 17984, 17985, 17344, 17855, 18632, 5066, 27850, 24012, 23885, 17358, 17360, 5074, 18002, 18003, 17365, 14808, 18650, 15323, 17373, 11229, 7903, 9569, 17378, 17379, 18145, 17381, 23532, 12143, 6897, 17782, 23548, 15103}), frozenset({28416, 28417, 28929, 9733, 26375, 4875, 4878, 20239, 21648, 10641, 2453, 10907, 21532, 12445, 18718, 12446, 13214, 12449, 13215, 416, 20129, 20130, 12964, 15783, 15781, 18726, 20133, 10915, 12972, 20524, 26535, 28457, 12976, 22958, 13107, 13108, 22963, 4918, 23735, 20277, 21279, 10675, 29622, 23101, 23102, 11967, 29632, 12993, 12994, 22851, 20298, 22988, 11981, 20312, 7646, 22246, 18022, 2410, 22638, 10351, 22639, 22256, 755, 3061}), frozenset({19712, 6661, 3336, 5390, 1935, 6675, 28183, 7323, 6684, 7069, 13726, 26363, 2336, 19233, 8487, 6953, 23465, 26410, 26409, 26412, 22956, 15534, 11952, 15535, 431, 6963, 5684, 22709, 23356, 8509, 23484, 13630, 12350, 13632, 8386, 8387, 27199, 13771, 13781, 9685, 87, 10456, 26459, 30427, 23391, 15457, 13669, 9062, 7276, 5228, 7278, 7279, 237, 9073, 19184, 22640, 23026, 7285, 13683, 7287, 12533, 17013, 13819}), frozenset({27010, 16131, 26755, 27140, 26886, 28805, 26756, 26885, 28806, 27017, 16139, 16015, 13457, 27922, 17940, 27928, 15897, 15899, 16028, 27931, 27164, 27039, 27166, 27041, 27936, 27042, 27043, 11942, 26918, 16048, 16051, 16444, 16317, 28735, 14400, 1219, 15957, 26971, 16224, 26977, 26978, 26724, 28644, 27113, 28778, 27114, 28779, 27116, 26733, 16111, 23279, 23280, 17905, 23282, 17011, 17908, 2166, 1658, 28667, 15868}), frozenset({4228, 4236, 4108, 3983, 10897, 10899, 20758, 3606, 4121, 4006, 7719, 3752, 4009, 20526, 20016, 8757, 8759, 3896, 8762, 8763, 8764, 25022, 3903, 4034, 21442, 3906, 3907, 4038, 27714, 4167, 29003, 12113, 10193, 9557, 27353, 16733, 3809, 3812, 5732, 10726, 5734, 4072, 29674, 7532, 8684, 15468, 4207, 3824, 3955, 3827, 3957, 15733, 4215, 4088, 3961, 3962, 4726, 4606, 4095}), frozenset({8837, 8839, 4232, 3593, 3594, 3851, 8588, 28939, 3598, 8587, 28940, 8598, 3863, 4248, 4249, 4251, 8606, 8864, 8609, 8611, 8613, 8615, 8616, 8617, 3627, 8625, 3635, 8628, 4151, 3895, 8631, 4160, 4162, 8664, 8796, 2782, 3683, 3684, 28901, 8806, 8809, 8554, 8556, 8557, 8686, 8687, 8558, 8560, 8563, 8564, 8565, 8566, 8567, 8696, 8699, 8700, 3837, 8574}), frozenset({24066, 12935, 24072, 26761, 12938, 24075, 2317, 24335, 26896, 11921, 17941, 17942, 24346, 29979, 17313, 17314, 23841, 22178, 23842, 16038, 14374, 4648, 5416, 13230, 10415, 11697, 26805, 25912, 15289, 15163, 26940, 19517, 15554, 12869, 12613, 12486, 16841, 24265, 8140, 28748, 26322, 28499, 13013, 28758, 22230, 12247, 28633, 27867, 12509, 15072, 26848, 23910, 15335, 15083, 15220, 18805, 15611, 11647}), frozenset({12924, 16769, 5507, 14730, 4490, 14733, 14734, 10381, 402, 22935, 13079, 1817, 16795, 4766, 3359, 3358, 12581, 12584, 7723, 13485, 16817, 30513, 30515, 10295, 22720, 10307, 10312, 12492, 12495, 12496, 12753, 12498, 22738, 12757, 10325, 22617, 22618, 10331, 12383, 12387, 12515, 12263, 10216, 16747, 12654, 12142, 13040, 11886, 13043, 19452}), frozenset({13312, 13700, 12813, 12814, 12816, 12819, 14359, 7960, 17049, 1176, 26651, 14877, 15518, 18975, 23200, 14497, 7970, 22947, 4515, 15782, 18088, 5033, 15016, 8491, 15530, 6957, 5678, 14391, 25271, 24640, 4550, 4551, 4552, 26183, 19018, 10442, 24018, 1108, 24279, 12376, 16474, 11877, 7272, 10473, 13290, 13298, 12659, 16115, 12664}), frozenset({5760, 4609, 4102, 4103, 3848, 4617, 3212, 7441, 7445, 24993, 5796, 25643, 25516, 7470, 4149, 24885, 10038, 1207, 14650, 28988, 7359, 1216, 29633, 4036, 4549, 1221, 1223, 12101, 12105, 24778, 29904, 3922, 27346, 1243, 7260, 3178, 3819, 4604, 4596, 7541, 25590, 4601, 27259, 29948, 22397, 24702}), frozenset({18949, 4997, 28807, 18956, 18062, 18963, 11924, 1301, 5014, 7965, 25246, 5024, 14369, 20386, 26663, 12074, 8368, 7731, 5816, 30010, 13117, 27844, 27845, 4678, 15736, 14792, 15864, 17612, 28628, 23893, 28504, 23897, 12123, 27100, 23900, 24544, 18156, 18157, 18925, 13677, 17775, 13679, 18930, 18808}), frozenset({12421, 12422, 12423, 12681, 12682, 12683, 12684, 9865, 12685, 9866, 12688, 12432, 12687, 12433, 9875, 13077, 9877, 12314, 12703, 12704, 12705, 12712, 13098, 12718, 12595, 12352, 13251, 13252, 12357, 12359, 12363, 12365, 13261, 12367, 13262, 12369, 12371, 13267, 12373, 12374, 12759, 12389, 9851}), frozenset({8583, 21134, 21135, 3860, 8728, 3865, 3872, 18341, 10921, 21163, 8622, 21167, 8755, 4031, 3648, 19648, 8644, 3014, 3015, 3910, 20424, 4044, 723, 21466, 3041, 3042, 21859, 3045, 3046, 3303, 8551, 8815, 3057, 3058, 8690, 8691, 8692, 3065, 3066}), frozenset({14720, 24837, 10118, 23943, 10121, 27407, 10128, 3215, 24978, 22297, 29598, 24741, 25638, 4010, 25518, 9521, 10036, 14648, 10041, 22457, 16569, 19900, 25542, 12104, 7499, 3790, 29009, 19924, 3706, 10072, 3171, 25585, 5747, 19955, 4085, 5754, 14715, 14716}), frozenset({15617, 5509, 5370, 23692, 6797, 12954, 4890, 4894, 13221, 1702, 12586, 28460, 20141, 28461, 13234, 13235, 13237, 13239, 12857, 13243, 13245, 17728, 12610, 13254, 12744, 12750, 13137, 15615, 12521, 8318, 12528, 12790, 23674, 12926, 13183}), frozenset({3850, 8971, 20234, 3856, 3345, 3346, 20243, 3862, 20248, 409, 3868, 3615, 3874, 3619, 10918, 10923, 10924, 3886, 3253, 3254, 3639, 3640, 4159, 10183, 9555, 20182, 8919, 21471, 10599, 8937, 3306, 3308, 3309, 22773}), frozenset({11649, 24077, 11288, 22041, 22042, 1048, 11547, 11549, 4381, 21917, 11551, 11555, 11045, 11320, 21946, 21947, 21948, 11457, 11336, 11597, 4304, 4311, 21978, 4447, 21991, 22001, 22008, 11513, 18429, 894}), frozenset({12544, 12548, 12940, 12946, 13203, 12564, 9880, 9882, 22941, 13091, 15780, 13095, 12715, 12716, 12717, 13250, 12871, 12872, 13014, 23772, 14181, 14182, 17637, 2406, 23659, 12787, 13046, 12278}), frozenset({22401, 29314, 29445, 22278, 29194, 21645, 22285, 19862, 21657, 9517, 19891, 19767, 10044, 20414, 19391, 19904, 21697, 21699, 20804, 19787, 12110, 19922, 19799, 27225, 10725, 10603, 27514}), frozenset({4738, 22664, 15628, 4748, 4881, 4143, 3375, 1329, 23095, 4795, 4924, 4798, 4927, 10954, 4811, 4683, 8908, 4686, 4813, 1744, 4688, 4689, 4819, 4820, 15612, 8958}), frozenset({22528, 22531, 22532, 22537, 12172, 12173, 12174, 12178, 13972, 23572, 22553, 13472, 22563, 13348, 4643, 22566, 22565, 22578, 5171, 13884, 13903, 13904, 27748, 18675, 23549}), frozenset({8576, 8581, 8582, 28299, 10132, 28313, 28315, 28841, 28335, 28338, 28347, 21436, 28351, 27457, 17506, 17252, 21606, 28902, 17128, 28906, 27502, 28910, 28913, 28915, 17145}), frozenset({12558, 1303, 4897, 4898, 9125, 4904, 9134, 5809, 5814, 5815, 3385, 3386, 17724, 4680, 4681, 20300, 4691, 8302, 4846, 4853, 4855, 4856, 4857}), frozenset({14977, 14978, 26514, 5011, 14997, 11808, 13345, 5158, 15017, 16815, 7222, 6972, 8380, 8393, 25296, 16471, 7006, 25829, 7275, 13425, 14965, 23669, 15869}), frozenset({3333, 23685, 29835, 29837, 29838, 22031, 16663, 29235, 29237, 3256, 11205, 28487, 21962, 3660, 28623, 28625, 10202, 11740, 30300, 15070, 13800, 26602, 3326}), frozenset({2944, 6786, 3466, 5391, 2837, 30493, 26018, 8637, 5951, 5956, 5573, 2886, 9041, 26584, 2904, 9313, 5603, 5605, 5606, 25319, 3563, 19312, 3454}), frozenset({15106, 10371, 12420, 10244, 10256, 18843, 12194, 11839, 12618, 15691, 11859, 11860, 18773, 11862, 18774, 18775, 15973, 10220, 10221, 10225, 13044, 13045}), frozenset({9984, 9985, 15489, 15747, 9862, 18057, 9867, 9868, 9869, 9907, 9790, 9792, 15429, 9936, 9937, 9944, 9952, 9829, 9832, 9845, 9983}), frozenset({28289, 25614, 25743, 25747, 25621, 11036, 28318, 28319, 21792, 28324, 24498, 28343, 19392, 22081, 28354, 25677, 17508, 25451, 21873, 25725}), frozenset({1031, 22028, 11283, 21912, 21916, 4273, 22071, 21949, 11710, 21950, 21951, 11330, 11074, 11345, 21976, 22123, 21999, 4338, 22140}), frozenset({1803, 25491, 20767, 25646, 21423, 21173, 25398, 14652, 23485, 20545, 20547, 19403, 21841, 21074, 3814, 21611, 23404, 3693, 25599}), frozenset({29828, 25737, 25750, 25625, 25626, 25393, 14642, 14910, 29513, 25548, 1612, 25556, 14677, 14678, 25566, 24808, 24553, 25591, 25464}), frozenset({8672, 25089, 3044, 10757, 2504, 4233, 8680, 29417, 29034, 4242, 244, 4245, 3926, 2549, 24890, 10204, 766, 14711}), frozenset({8257, 8259, 8260, 8263, 5135, 18097, 8242, 7763, 8244, 11731, 17972, 8248, 17978, 17979, 17980, 8253, 8255}), frozenset({4417, 16196, 11332, 11528, 11082, 11307, 22059, 19789, 3217, 16113, 945, 22100, 21939, 4275, 22137, 22074, 12063}), frozenset({28768, 29857, 25411, 22020, 28580, 22023, 24583, 24650, 11531, 24238, 11312, 24660, 14485, 24245, 24344, 14426, 21915}), frozenset({8736, 21729, 29922, 8738, 7495, 24970, 21323, 20651, 29610, 24957, 3311, 3312, 29525, 21593, 21786, 3931, 3930}), frozenset({5537, 5540, 3397, 10279, 10280, 10215, 10250, 3340, 10253, 10385, 3377, 8305, 12210, 10266, 10396, 10269}), frozenset({11840, 12802, 3362, 19749, 12678, 8967, 20297, 12202, 12563, 12307, 12858, 12541, 22810, 8955, 12796, 12605}), frozenset({12962, 13052, 20198, 1543, 1288, 23080, 12970, 20299, 20247, 20175, 22620, 20278, 20279, 18747, 20124, 20219}), frozenset({5184, 5186, 5178, 28222, 9388, 5180, 23217, 9394, 17268, 9397, 9400, 8345, 8346, 28219, 28476, 9406}), frozenset({2788, 3709, 15687, 27719, 24555, 28588, 19406, 24208, 24594, 2802, 8371, 3829, 10554, 21085, 25662, 20831}), frozenset({17600, 8291, 15364, 2917, 17606, 17574, 3400, 17609, 24615, 8268, 6188, 17583, 11761, 28786, 15193, 9978}), frozenset({4960, 4837, 3366, 4838, 4839, 10278, 4845, 4814, 20269, 22962, 3379, 3380, 4789, 3383, 4920}), frozenset({20579, 29603, 29029, 20682, 22410, 24843, 27403, 21452, 29357, 25008, 24787, 24790, 20823, 21754, 24732}), frozenset({21857, 28866, 21665, 21572, 20746, 20748, 4080, 21398, 4119, 10875, 21116, 10557, 21790, 21791}), frozenset({25728, 25729, 25730, 25449, 25641, 25676, 29552, 25395, 25588, 28342, 29624, 28281, 28314, 25466}), frozenset({17318, 17319, 18120, 11916, 18893, 17326, 17325, 18894, 17779, 18835, 16630, 13854, 13855}), frozenset({24647, 22057, 24266, 14602, 24618, 24527, 26289, 14326, 24601, 14586, 24029, 14526, 24031}), frozenset({19386, 23714, 20674, 19426, 20483, 21701, 19420, 28115, 24215, 20825, 20826, 19419, 9564}), frozenset({23746, 28451, 28455, 28423, 23726, 23665, 28437, 22967, 23032, 23033, 23742, 12606, 23775}), frozenset({12225, 29958, 12425, 13005, 12941, 12238, 13200, 17041, 17042, 13715, 23729, 13171, 29972}), frozenset({18723, 12803, 10373, 13225, 22697, 22891, 20174, 30128, 12794, 12949, 12950, 18746, 12702}), frozenset({12517, 12870, 13223, 12777, 12650, 13131, 12557, 13038, 12655, 12656, 13041, 17692}), frozenset({15012, 15013, 5477, 18654, 17355, 9714, 14099, 13875, 14103, 17017, 22973, 14046}), frozenset({22657, 23108, 12378, 13194, 13003, 8304, 13008, 13201, 12889, 12346, 12381, 12894}), frozenset({25696, 25568, 25410, 25701, 22469, 22377, 12043, 22381, 25522, 22389, 14332, 25694}), frozenset({26969, 19945, 19946, 19852, 19983, 19987, 277, 19991, 1241, 10074, 22493, 286}), frozenset({4578, 5763, 5795, 5765, 5798, 5769, 5784, 8878, 7540, 29496, 8798, 4575}), frozenset({20256, 5253, 5926, 6150, 30251, 5611, 9268, 27092, 5080, 3001, 5114, 19003}), frozenset({11299, 11431, 11271, 11433, 11020, 11052, 11436, 11566, 11546, 4284, 4286}), frozenset({17351, 9352, 6025, 6026, 6023, 1103, 6815, 6238, 14844, 6846, 6015}), frozenset({14562, 14563, 14564, 13508, 14566, 9708, 9997, 17838, 14608, 17840, 14457}), frozenset({2211, 15301, 15237, 16647, 16648, 15308, 14350, 3248, 26231, 10200, 16635}), frozenset({28072, 23656, 23658, 13965, 17106, 19735, 19736, 19738, 17180, 19741, 23007}), frozenset({29249, 29250, 28868, 21156, 28870, 28872, 28873, 14666, 28848, 28849, 29430}), frozenset({18600, 9074, 9075, 9076, 9077, 9078, 18611, 18612, 30066, 9082, 2620}), frozenset({7553, 6114, 5803, 7467, 5779, 5780, 6103, 7416, 6107, 5756}), frozenset({4961, 4801, 4867, 4739, 4812, 9132, 4716, 4882, 4821, 4799}), frozenset({11360, 11678, 11172, 11525, 11371, 11119, 11216, 11094, 11194, 11102}), frozenset({9571, 5669, 5670, 6638, 15278, 16913, 15350, 5687, 16923, 16956}), frozenset({18626, 16995, 17348, 17350, 8166, 17353, 17356, 17357, 14130, 17757}), frozenset({7905, 15010, 19075, 7943, 7944, 19081, 16880, 10322, 7924, 17595}), frozenset({20707, 21317, 522, 21036, 21037, 20910, 21209, 21210, 21758, 21759}), frozenset({19968, 22117, 19815, 25000, 21963, 22125, 19833, 22076, 22077, 18335}), frozenset({6310, 26155, 17391, 8177, 8181, 8182, 8184, 8186, 8188, 8189}), frozenset({11943, 16359, 11945, 11949, 2128, 16049, 16114, 16208, 16372, 27037}), frozenset({15523, 4708, 19752, 28456, 4714, 28458, 23085, 4753, 3128, 25307}), frozenset({17504, 25504, 14658, 25669, 26277, 27596, 25709, 27375, 16689, 29108}), frozenset({14631, 29196, 24781, 24877, 24785, 24915, 24916, 29204, 29205, 24926}), frozenset({8704, 6121, 6122, 6126, 8624, 8632, 8604, 8605, 8830}), frozenset({7104, 7107, 7110, 7111, 7112, 7113, 7625, 7217, 12018}), frozenset({12002, 17794, 12132, 2477, 15887, 16531, 17877, 18137, 16476}), frozenset({19302, 19303, 18408, 19305, 19306, 18384, 18417, 18391, 18392}), frozenset({20195, 20196, 10363, 10386, 10297, 10298, 10299, 10300, 10365}), frozenset({12393, 13100, 13101, 20179, 12468, 18741, 13111, 20253, 20286}), frozenset({4037, 4007, 3945, 21098, 21547, 21844, 21719, 20761, 4029}), frozenset({20480, 20418, 21861, 21222, 21224, 21225, 19409, 10581, 20408}), frozenset({11713, 11398, 11787, 11435, 22063, 11409, 11410, 11569, 11601}), frozenset({3200, 3201, 19812, 22378, 12111, 3185, 3193, 3162, 16603}), frozenset({4482, 5667, 20419, 24520, 1707, 15660, 23827, 26550, 14553}), frozenset({16387, 16388, 18119, 7083, 26734, 16240, 16211, 16477, 16479}), frozenset({26850, 26821, 26791, 26856, 26864, 26769, 26835, 26867, 26869}), frozenset({15939, 26884, 2121, 16362, 2089, 2125, 2094, 6873, 6874}), frozenset({16101, 27046, 7014, 22214, 7022, 16020, 15962, 2046, 7007}), frozenset({388, 4132, 23165, 10152, 27848, 76, 23346, 1586, 3005}), frozenset({9635, 10340, 4933, 9674, 9610, 8212, 28468, 8086, 9596}), frozenset({14721, 24705, 29315, 29026, 29452, 16559, 16560, 27606, 24829}), frozenset({19780, 29802, 19410, 18290, 29460, 25589, 29301, 28950, 29691}), frozenset({3204, 3176, 3242, 3245, 3154, 3226, 3227, 3230}), frozenset({3173, 4582, 3207, 3179, 3180, 3214, 4573, 3166}), frozenset({7849, 6704, 6706, 7922, 4503, 7897, 7898, 7899}), frozenset({4800, 4803, 8965, 4910, 8943, 8942, 4913, 12916}), frozenset({13639, 13640, 5360, 13713, 5362, 13723, 13724, 13725}), frozenset({14278, 10255, 14256, 14258, 14263, 14264, 5530, 10267}), frozenset({5821, 8137, 8138, 17296, 17297, 14779, 14781, 5823}), frozenset({18401, 18402, 18403, 18404, 18405, 18439, 18418, 18419}), frozenset({5322, 18634, 18635, 19153, 15159, 9369, 13852, 17759}), frozenset({20258, 20259, 20260, 20261, 20166, 20262, 20263, 20172}), frozenset({10849, 4075, 3916, 10861, 4076, 4077, 4078, 20797}), frozenset({4805, 12583, 4809, 21647, 21524, 10902, 12919, 13118}), frozenset({4449, 22055, 22056, 22121, 22027, 4378, 4379, 4380}), frozenset({22660, 12998, 22740, 1334, 23031, 13206, 13114, 22744}), frozenset({20887, 19395, 21255, 21263, 21265, 23155, 19382, 23191}), frozenset({1761, 26052, 22188, 26285, 14636, 15280, 1874, 10139}), frozenset({28618, 16204, 27150, 27002, 26736, 26739, 26741, 7258}), frozenset({5664, 28548, 8389, 4646, 28757, 4730, 12091, 23902}), frozenset({25731, 29096, 25416, 25706, 24745, 25742, 19952, 29567}), frozenset({25667, 25668, 29702, 29223, 25679, 25431, 25564, 25405}), frozenset({22375, 10091, 29517, 22382, 29871, 22482, 29844, 29015}), frozenset({3747, 2793, 3662, 3663, 3665, 3666, 3707}), frozenset({3653, 4168, 3626, 3659, 3791, 3671, 3643}), frozenset({224, 7653, 7656, 3082, 204, 3055, 188}), frozenset({9857, 9858, 9935, 9906, 3092, 3126, 3103}), frozenset({11104, 11112, 11113, 11114, 11157, 11189, 11192}), frozenset({14048, 14050, 13986, 5415, 14002, 14003, 14045}), frozenset({6596, 6537, 6539, 15084, 6540, 6544, 6481}), frozenset({7616, 16641, 258, 2208, 11, 788, 16410}), frozenset({17250, 17098, 17069, 8087, 17170, 17143, 8031}), frozenset({16386, 2056, 16368, 16017, 16018, 18040, 16351}), frozenset({18019, 18058, 18059, 17936, 17939, 17945, 18142}), frozenset({18496, 12741, 12646, 12647, 12519, 12778, 12653}), frozenset({18699, 18700, 18701, 18704, 18705, 18706, 18707}), frozenset({6689, 6405, 9192, 9228, 18960, 15222, 13720}), frozenset({9216, 9218, 18959, 6836, 18997, 6839, 9215}), frozenset({21060, 21195, 20527, 21586, 20855, 20763, 20764}), frozenset({20993, 21028, 21032, 21353, 21007, 20465, 21654}), frozenset({21671, 21674, 21131, 21836, 21165, 20913, 20446}), frozenset({22376, 16555, 19918, 19919, 19984, 10005, 19804}), frozenset({19907, 15271, 296, 276, 2550, 19926, 22458}), frozenset({12007, 12010, 12077, 22479, 16625, 12089, 16478}), frozenset({24489, 22603, 20110, 21294, 3888, 19538, 20063}), frozenset({16582, 10060, 19762, 25557, 19771, 19933, 19838}), frozenset({22306, 25475, 17854, 24552, 18010, 25722, 25406}), frozenset({25826, 25801, 25833, 2347, 14969, 14971, 25852}), frozenset({18273, 25505, 20552, 20109, 25871, 20563, 20630}), frozenset({23906, 25930, 24529, 24275, 23896, 23898, 23964}), frozenset({7043, 7372, 26188, 7280, 16791, 7324, 7070}), frozenset({26561, 16898, 17734, 18540, 17902, 7060, 13439}), frozenset({26849, 26788, 26857, 26825, 26771, 26779, 26844}), frozenset({27401, 27595, 27600, 27601, 27603, 27481, 27295}), frozenset({27207, 27625, 27628, 27476, 27480, 27545, 27578}), frozenset({7648, 7649, 7650, 27686, 2214, 7677, 7647}), frozenset({5121, 27687, 15721, 15082, 20656, 6556, 15327}), frozenset({17254, 17255, 17228, 27954, 17075, 28083, 28117}), frozenset({28228, 8170, 9108, 8149, 9109, 8157, 8158}), frozenset({28609, 7313, 16403, 16212, 2102, 2040, 1181}), frozenset({28649, 15918, 15919, 15927, 15928, 28602, 28604}), frozenset({25537, 25539, 1796, 29005, 29007, 24948, 27901}), frozenset({19937, 22274, 22504, 12015, 19893, 29210, 23451}), frozenset({769, 770, 14820, 29002, 29335, 28924, 638}), frozenset({21383, 21449, 20851, 21748, 20852, 20853, 29564}), frozenset({8832, 5764, 29031, 29934, 29743, 29111, 8767}), frozenset({19680, 21313, 20652, 10767, 21393, 20663, 30109}), frozenset({30183, 19518, 23471, 25298, 22197, 28376, 24606}), frozenset({3018, 3020, 3021, 3022, 3026, 3036}), frozenset({3753, 3756, 3951, 3634, 3991, 4120}), frozenset({6568, 6541, 6300, 6301, 6558, 6591}), frozenset({5797, 4625, 4563, 7413, 4569, 5788}), frozenset({11105, 11177, 11180, 11217, 11379, 11187}), frozenset({11392, 11368, 11115, 11181, 11156, 11191}), frozenset({11305, 4433, 11635, 11061, 11100, 11294}), frozenset({4425, 4427, 11789, 11568, 4344, 4350}), frozenset({12640, 13253, 4712, 12848, 12849, 13246}), frozenset({14049, 14051, 13971, 13909, 14005, 14013}), frozenset({11716, 14469, 10355, 10357, 14394, 14395}), frozenset({15048, 15341, 15054, 14873, 15740, 15741}), frozenset({16195, 15947, 16269, 7033, 16378, 16382}), frozenset({7968, 8488, 5577, 16909, 8496, 7925}), frozenset({6280, 16713, 17007, 17008, 16724, 16253}), frozenset({12388, 14190, 4654, 17146, 12731, 12318}), frozenset({15841, 17415, 17416, 9420, 17420, 17424}), frozenset({8360, 16842, 18099, 6901, 18101, 8024}), frozenset({18390, 18393, 18394, 18397, 18398, 18399}), frozenset({14885, 15752, 13614, 15121, 13690, 18590}), frozenset({9349, 18854, 9162, 9227, 9355, 7967}), frozenset({20580, 20581, 20582, 20583, 20659, 729}), frozenset({21024, 14722, 7460, 3894, 3833, 3834}), frozenset({21282, 21484, 21559, 20438, 20439, 20793}), frozenset({21056, 21642, 21482, 20530, 20535, 21115}), frozenset({21952, 21938, 21973, 22105, 22142, 22143}), frozenset({12099, 3206, 14922, 14923, 22444, 18285}), frozenset({22279, 22509, 19986, 3190, 19768, 10108}), frozenset({23077, 13222, 20296, 4780, 20272, 10395}), frozenset({12385, 13090, 14723, 22661, 23078, 23086}), frozenset({23040, 22732, 23097, 22646, 22777, 22621}), frozenset({17184, 17122, 23670, 17206, 17177, 8094}), frozenset({23490, 15874, 5574, 23179, 1260, 24243}), frozenset({24515, 6437, 14568, 5961, 22026, 1008}), frozenset({14331, 24623, 1681, 24667, 24317, 14559}), frozenset({25313, 23204, 15594, 18829, 13486, 16734}), frozenset({14592, 24323, 18937, 18033, 17817, 25374}), frozenset({18981, 1893, 25933, 6452, 6458, 1855}), frozenset({24231, 24264, 24105, 24010, 26011, 24383}), frozenset({6464, 7053, 6425, 6331, 6460, 26141}), frozenset({13514, 1903, 26160, 26291, 22037, 6329}), frozenset({26688, 26698, 6861, 18547, 18548, 12157}), frozenset({26816, 26798, 25778, 26806, 26840, 26777}), frozenset({7137, 7138, 7011, 6921, 7020, 26968}), frozenset({16426, 7018, 16010, 15926, 2073, 27004}), frozenset({27584, 19908, 19909, 16624, 19989, 21655}), frozenset({21664, 27429, 21483, 27409, 21017, 27645}), frozenset({27699, 27700, 22169, 19546, 27677, 26559}), frozenset({12033, 19943, 19880, 19982, 27921, 2141}), frozenset({25193, 27980, 27981, 23759, 23701, 23736}), frozenset({28012, 17072, 28084, 27994, 28123, 28126}), frozenset({9380, 15844, 8174, 28368, 27188, 7579}), frozenset({28448, 14187, 28076, 17139, 17141, 14232}), frozenset({12608, 12587, 28459, 12590, 12784, 6422}), frozenset({23272, 6895, 28502, 17943, 17944, 17919}), frozenset({18050, 28579, 28678, 20333, 7100, 7357}), frozenset({5666, 24356, 28746, 26986, 24595, 24599}), frozenset({27452, 25702, 25576, 25480, 29148, 25437}), frozenset({21059, 10598, 21288, 21360, 29498, 29534}), frozenset({28062, 21486, 29812, 29626, 29341, 28061}), frozenset({6469, 24744, 26314, 26125, 29813, 14655}), frozenset({29349, 29351, 29554, 29847, 29275, 29343}), frozenset({22272, 27656, 29840, 29872, 22491, 25085}), frozenset({12928, 26436, 22885, 29971, 26424, 15512}), frozenset({9447, 5832, 30026, 5846, 11835, 7839}), frozenset({18912, 22567, 30188, 8270, 30203, 18909}), frozenset({26307, 5991, 30382, 6831, 26128, 14845}), frozenset({3876, 3749, 3750, 3754, 4046}), frozenset({4451, 4452, 4456, 4457, 4459}), frozenset({7169, 6885, 7173, 7045, 7367}), frozenset({6977, 7374, 7385, 7068, 7230}), frozenset({3971, 8196, 3685, 3655, 4172}), frozenset({8420, 7381, 5150, 4670, 5151}), frozenset({8838, 3241, 4619, 6105, 8634}), frozenset({8873, 8876, 5708, 6104, 6108}), frozenset({9033, 7978, 9035, 9038, 7994}), frozenset({8867, 8881, 10961, 4630, 4631}), frozenset({4420, 11494, 4422, 4436, 11415}), frozenset({11425, 11495, 4423, 11591, 11057}), frozenset({11684, 11121, 11380, 11669, 11193}), frozenset({12611, 1284, 12614, 12390, 12394}), frozenset({15108, 5015, 5879, 5880, 5881}), frozenset({13955, 14603, 13936, 12181, 15167}), frozenset({4225, 4227, 6693, 6694, 15503}), frozenset({13280, 13283, 15591, 13325, 13272}), frozenset({15851, 6098, 6099, 5302, 15414}), frozenset({2081, 7215, 16083, 16084, 7291}), frozenset({14305, 14561, 15879, 16336, 5691}), frozenset({16226, 15952, 16209, 16281, 16383}), frozenset({16481, 16482, 7248, 16505, 16218}), frozenset({4133, 3852, 3855, 16573, 16575}), frozenset({8224, 16608, 3861, 3612, 8223}), frozenset({17152, 17224, 17232, 17178, 17247}), frozenset({10488, 17308, 17290, 17304, 16860}), frozenset({13127, 17383, 13021, 13022, 13023}), frozenset({17518, 16818, 16819, 13877, 13878}), frozenset({9696, 9698, 17572, 13329, 17589}), frozenset({9697, 17571, 17614, 2995, 12152}), frozenset({12841, 12395, 12397, 12761, 18462}), frozenset({18464, 18465, 18479, 13199, 18463}), frozenset({18505, 18506, 8977, 18518, 18519}), frozenset({18817, 15556, 18769, 6005, 18781}), frozenset({18881, 18692, 15111, 11315, 18899}), frozenset({19782, 16589, 19825, 3198, 10111}), frozenset({21099, 21326, 21327, 21369, 10747}), frozenset({21441, 21448, 21385, 636, 21437}), frozenset({10048, 21575, 19917, 10130, 12095}), frozenset({10855, 4170, 10906, 21336, 21594}), frozenset({19681, 19715, 9871, 21651, 20440}), frozenset({20576, 21155, 19589, 21681, 21138}), frozenset({2787, 2135, 10841, 21884, 20733}), frozenset({21899, 21724, 21275, 21276, 20605}), frozenset({1250, 22317, 22351, 22364, 22334}), frozenset({10093, 22481, 12022, 22263, 22299}), frozenset({10338, 13069, 12881, 21555, 22718}), frozenset({22624, 23009, 22850, 12631, 12732}), frozenset({23105, 23075, 13260, 12532, 13180}), frozenset({97, 13638, 13841, 23479, 19515}), frozenset({17097, 23660, 19732, 3125, 19734}), frozenset({13025, 23719, 12271, 12274, 22901}), frozenset({24194, 9572, 24196, 9652, 18523}), frozenset({1610, 8460, 23889, 5681, 24280}), frozenset({1675, 24562, 24371, 23861, 24510}), frozenset({23877, 23892, 24632, 4634, 23901}), frozenset({8674, 8679, 25032, 15798, 6333}), frozenset({18338, 18340, 24875, 24878, 25439}), frozenset({25569, 19842, 19843, 19877, 25434}), frozenset({26272, 26273, 25964, 26252, 26321}), frozenset({27008, 18982, 18962, 27101, 7198}), frozenset({8449, 15975, 27179, 8370, 16187}), frozenset({27335, 27399, 27370, 27470, 25396}), frozenset({2542, 27411, 27320, 27550, 27423}), frozenset({14571, 27853, 27854, 14575, 14453}), frozenset({28002, 20842, 9971, 14228, 22717}), frozenset({28099, 28101, 9701, 16905, 16906}), frozenset({28160, 28161, 28163, 28181, 28158}), frozenset({13796, 23463, 28206, 23132, 13598}), frozenset({28450, 12937, 13209, 13210, 13211}), frozenset({24008, 14354, 24659, 28535, 23838}), frozenset({13441, 18051, 16391, 28568, 18012}), frozenset({28643, 15946, 17964, 28601, 16060}), frozenset({29030, 22281, 22289, 27350, 27260}), frozenset({25705, 29098, 24816, 24852, 19998}), frozenset({1733, 25127, 29483, 25116, 25151}), frozenset({21253, 20885, 29494, 20888, 20889}), frozenset({27688, 29516, 2573, 29462, 29373}), frozenset({17376, 29600, 25670, 22266, 22268}), frozenset({19808, 29606, 19928, 19962, 19963}), frozenset({10114, 29799, 19889, 29617, 10133}), frozenset({25632, 25603, 25510, 29815, 25657}), frozenset({12003, 25445, 29898, 1619, 25535}), frozenset({29859, 29413, 29931, 18260, 25463}), frozenset({30402, 30403, 23343, 30393, 30395}), frozenset({20385, 23297, 23238, 30509, 25326}), frozenset({1217, 274, 1251, 1236}), frozenset({3194, 3199, 3167, 3191}), frozenset({3969, 4203, 4045, 4093}), frozenset({4796, 4749, 4926, 4815}), frozenset({5640, 5567, 5646, 5639}), frozenset({4610, 4557, 3622, 5778}), frozenset({5777, 5786, 5787, 5767}), frozenset({5792, 5804, 5805, 5806}), frozenset({6872, 4761, 4949, 6854}), frozenset({7370, 7114, 2071, 7039}), frozenset({7072, 7076, 7378, 7156}), frozenset({7177, 6887, 7382, 7174}), frozenset({7426, 7471, 7430, 7567}), frozenset({4746, 4699, 8300, 4797}), frozenset({5649, 8538, 6561, 6588}), frozenset({8812, 5733, 5711, 5735}), frozenset({6177, 6178, 5515, 9239}), frozenset({1626, 9843, 1596, 9973}), frozenset({10088, 10089, 10085, 10087}), frozenset({10360, 10361, 10330, 10263}), frozenset({10258, 10259, 10364, 10294}), frozenset({10375, 2915, 1254, 4639}), frozenset({8777, 5770, 8814, 10769}), frozenset({4360, 4428, 11400, 11406}), frozenset({11520, 11521, 11644, 11517}), frozenset({11673, 11170, 11629, 11366}), frozenset({11116, 11378, 11124, 11687}), frozenset({11273, 11771, 11221, 7422}), frozenset({11843, 7603, 7598, 7599}), frozenset({11992, 12017, 12013, 12006}), frozenset({12754, 12491, 12755, 12770}), frozenset({12233, 13177, 13155, 13001}), frozenset({7768, 13907, 5412, 14133}), frozenset({14193, 14018, 14020, 12167}), frozenset({6673, 15436, 15437, 10439}), frozenset({15529, 13835, 15491, 15421}), frozenset({6552, 5617, 15571, 15201}), frozenset({6014, 9356, 15678, 6748}), frozenset({6792, 15769, 6171, 9244}), frozenset({16264, 1196, 2109, 2110}), frozenset({16300, 16301, 16302, 16303}), frozenset({16312, 2113, 7219, 7135}), frozenset({10120, 12061, 16315, 16024}), frozenset({2424, 10102, 2156, 16590}), frozenset({10666, 10930, 10668, 16621}), frozenset({1530, 7699, 8514, 16719}), frozenset({15229, 15228, 16853, 16879}), frozenset({17169, 9930, 9975, 17199}), frozenset({17483, 17468, 17469, 17470}), frozenset({16137, 17911, 16220, 17991}), frozenset({18098, 12254, 18102, 18103}), frozenset({17793, 18130, 17947, 17822}), frozenset({8840, 8834, 8636, 18274}), frozenset({11264, 11563, 11220, 18421}), frozenset({18377, 18411, 18437, 18438}), frozenset({8969, 8932, 18470, 18468}), frozenset({15744, 13082, 18483, 12806}), frozenset({17541, 9482, 9069, 18574}), frozenset({18625, 9100, 13957, 18710}), frozenset({6585, 6607, 6612, 18924}), frozenset({18979, 18994, 18995, 17604}), frozenset({19152, 587, 18247, 18271}), frozenset({12320, 19224, 12434, 19228}), frozenset({9179, 19277, 15701, 15549}), frozenset({19624, 19642, 19632, 19559}), frozenset({20082, 9605, 2870, 63}), frozenset({10369, 20190, 10374, 3350}), frozenset({20314, 10292, 13070, 10367}), frozenset({20456, 20466, 21357, 21658}), frozenset({20569, 10519, 21525, 21685}), frozenset({21753, 2547, 21732, 21061}), frozenset({4116, 20749, 21846, 20942}), frozenset({22090, 11595, 21923, 1071}), frozenset({11424, 11401, 22094, 22095}), frozenset({11263, 22108, 22109, 22007}), frozenset({2273, 22156, 7956, 1948}), frozenset({22224, 11937, 22258, 22257}), frozenset({1240, 22273, 2178, 22385}), frozenset({12920, 12922, 22645, 13104}), frozenset({10230, 22945, 8115, 17086}), frozenset({12240, 9826, 12403, 22946}), frozenset({22858, 22811, 23006, 20255}), frozenset({23544, 23535, 23533, 23543}), frozenset({13943, 13979, 23589, 23591}), frozenset({23653, 23651, 23517, 23654}), frozenset({23088, 22977, 23027, 23761}), frozenset({24104, 24347, 24348, 14590}), frozenset({24536, 24385, 24539, 24526}), frozenset({24587, 24219, 24221, 24535}), frozenset({24675, 4635, 5660, 20341}), frozenset({25192, 22921, 19722, 23030}), frozenset({25457, 25578, 21820, 25420}), frozenset({25617, 25514, 25571, 25636}), frozenset({25682, 24596, 25653, 25487}), frozenset({20240, 26464, 22846, 10510}), frozenset({26525, 15619, 15629, 26526}), frozenset({26594, 26604, 26610, 1983}), frozenset({26808, 26851, 26820, 26875}), frozenset({25824, 7193, 26980, 26981}), frozenset({27361, 27362, 27363, 27357}), frozenset({27538, 12140, 27421, 7566}), frozenset({27377, 19658, 21417, 27543}), frozenset({27248, 21361, 27589, 2199}), frozenset({14670, 27610, 18366, 25407}), frozenset({8139, 8013, 8014, 27899}), frozenset({23466, 27195, 27828, 28182}), frozenset({17400, 14882, 25364, 28244}), frozenset({17457, 17458, 17437, 28277}), frozenset({20304, 20306, 28308, 20303}), frozenset({28433, 9396, 2893, 2927}), frozenset({6946, 28547, 2117, 7314}), frozenset({28736, 17857, 27018, 7063}), frozenset({28800, 16074, 28620, 28781}), frozenset({29065, 29067, 29052, 29079}), frozenset({29473, 25076, 20814, 25063}), frozenset({29082, 28843, 29524, 20471}), frozenset({21026, 20939, 29563, 24767}), frozenset({25698, 24676, 29748, 29415}), frozenset({24622, 24665, 14557, 29790}), frozenset({1576, 29372, 29688, 29814}), frozenset({29892, 8741, 8742, 29527}), frozenset({29933, 1643, 29093, 29103}), frozenset({11872, 11802, 30187, 11890}), frozenset({17116, 30460, 27668, 19159}), frozenset({30379, 19124, 30501, 20343}), frozenset({50, 2853, 2914}), frozenset({3016, 3017, 3025}), frozenset({1228, 3221, 2174}), frozenset({3232, 3229, 3231}), frozenset({3592, 3875, 3846}), frozenset({4089, 4134, 3870}), frozenset({4353, 4418, 4375}), frozenset({1040, 4424, 4415}), frozenset({4624, 4627, 4628}), frozenset({4793, 4771, 4921}), frozenset({2988, 5052, 5054}), frozenset({6440, 6516, 6517}), frozenset({6608, 6570, 6603}), frozenset({6601, 6563, 6614}), frozenset({7056, 6146, 6147}), frozenset({5551, 4970, 7066}), frozenset({7152, 7153, 7140}), frozenset({7181, 6878, 7182}), frozenset({7281, 7331, 7126}), frozenset({7216, 7337, 6932}), frozenset({7344, 7347, 7350}), frozenset({3150, 7468, 4566}), frozenset({7658, 6805, 2014}), frozenset({6632, 6626, 7938}), frozenset({6711, 7950, 7951}), frozenset({7971, 6382, 2807}), frozenset({8436, 8437, 8374}), frozenset({6969, 8446, 7103}), frozenset({8891, 8892, 8886}), frozenset({8896, 8897, 8894}), frozenset({4458, 4454, 8903}), frozenset({8920, 4693, 4759}), frozenset({8936, 8310, 8319}), frozenset({450, 9043, 2903}), frozenset({9809, 9881, 9876}), frozenset({10304, 10239, 10311}), frozenset({10377, 10306, 10378}), frozenset({4008, 10555, 3831}), frozenset({8813, 10749, 10750}), frozenset({10760, 10205, 10758}), frozenset({10968, 5737, 3811}), frozenset({11064, 4434, 11364}), frozenset({12049, 11978, 12126}), frozenset({12196, 10284, 10308}), frozenset({12323, 4828, 12758}), frozenset({12760, 12361, 12686}), frozenset({4784, 1313, 13059}), frozenset({12328, 12442, 13063}), frozenset({12996, 405, 13110}), frozenset({12568, 13126, 12623}), frozenset({12562, 13196, 9861}), frozenset({13256, 4651, 12199}), frozenset({12697, 12698, 13276}), frozenset({5138, 5139, 13453}), frozenset({13512, 2940, 9589}), frozenset({13544, 5825, 13567}), frozenset({13560, 13584, 13582}), frozenset({7799, 13926, 7807}), frozenset({9715, 12221, 13999}), frozenset({13507, 13429, 14389}), frozenset({3192, 14656, 5740}), frozenset({14769, 14762, 14767}), frozenset({15064, 12262, 7703}), frozenset({15261, 9055, 15055}), frozenset({15089, 15283, 15119}), frozenset({15360, 3554, 4531}), frozenset({15434, 8516, 9286}), frozenset({15632, 15633, 15631}), frozenset({15538, 15676, 15045}), frozenset({13464, 15884, 11957}), frozenset({16056, 15891, 16061}), frozenset({16065, 9499, 5491}), frozenset({16259, 16086, 16222}), frozenset({2126, 16377, 2262}), frozenset({16432, 16130, 7031}), frozenset({7376, 16458, 16390}), frozenset({16522, 16487, 16527}), frozenset({456, 16722, 16726}), frozenset({16810, 16786, 16778}), frozenset({15067, 15068, 16831}), frozenset({15284, 16899, 14995}), frozenset({8463, 17045, 8935}), frozenset({17130, 12596, 14237}), frozenset({17208, 17138, 17222}), frozenset({17292, 17293, 17301}), frozenset({11714, 11042, 17471}), frozenset({17481, 17452, 17453}), frozenset({8768, 17513, 7444}), frozenset({9193, 17587, 6198}), frozenset({17593, 9307, 7933}), frozenset({14929, 17714, 13085}), frozenset({13129, 14900, 17741}), frozenset({17856, 16484, 8772}), frozenset({16472, 17920, 16310}), frozenset({14337, 17995, 17788}), frozenset({17872, 18089, 18086}), frozenset({18424, 18410, 18430}), frozenset({12272, 4666, 18451}), frozenset({13405, 1077, 18558}), frozenset({18816, 5388, 8972}), frozenset({768, 2457, 19024}), frozenset({2960, 19054, 2959}), frozenset({13752, 19192, 19191}), frozenset({9505, 19418, 19417}), frozenset({1456, 19530, 807}), frozenset({19626, 19622, 19630}), frozenset({3098, 3133, 19710}), frozenset({3784, 19773, 3686}), frozenset({19890, 19797, 19834}), frozenset({16584, 266, 19996}), frozenset({354, 20085, 3319}), frozenset({20273, 1989, 19495}), frozenset({20305, 20238, 20287}), frozenset({11827, 11844, 20389}), frozenset({20428, 20541, 10751}), frozenset({20664, 715, 10211}), frozenset({264, 10115, 20806}), frozenset({20928, 10626, 19415}), frozenset({19562, 131, 21109}), frozenset({21170, 20727, 21207}), frozenset({21324, 21021, 21022}), frozenset({19416, 21539, 19421}), frozenset({5305, 21542, 3407}), frozenset({21137, 10652, 21613}), frozenset({21619, 21150, 21143}), frozenset({8649, 8572, 21695}), frozenset({20720, 10801, 21709}), frozenset({21744, 21690, 21750}), frozenset({3664, 772, 21774}), frozenset({10561, 21051, 21894}), frozenset({21931, 11492, 949}), frozenset({4368, 22024, 4357}), frozenset({19001, 22038, 6255}), frozenset({21920, 22089, 101}), frozenset({22288, 1185, 2053}), frozenset({4571, 12087, 22311}), frozenset({11927, 22371, 22367}), frozenset({19832, 22435, 22429}), frozenset({19936, 22403, 22452}), frozenset({7203, 10452, 22599}), frozenset({10224, 12399, 22663}), frozenset({22768, 13182, 22759}), frozenset({12312, 22818, 22819}), frozenset({22727, 22630, 22823}), frozenset({22841, 22844, 22845}), frozenset({22864, 19670, 4919}), frozenset({23008, 22923, 22987}), frozenset({7738, 23059, 18948}), frozenset({23140, 15805, 6799}), frozenset({19482, 20485, 23221}), frozenset({2888, 23330, 2912}), frozenset({23332, 23029, 19750}), frozenset({22521, 23409, 19533}), frozenset({23420, 21782, 5271}), frozenset({3408, 19449, 23422}), frozenset({19685, 12948, 23565}), frozenset({23581, 23582, 12175}), frozenset({23809, 14253, 14247}), frozenset({22776, 24178, 24175}), frozenset({24305, 14551, 23871}), frozenset({24393, 24394, 24414}), frozenset({24569, 14340, 14455}), frozenset({24593, 23876, 22575}), frozenset({2568, 1661, 24671}), frozenset({14640, 24821, 14647}), frozenset({20521, 24763, 24925}), frozenset({24898, 24971, 24751}), frozenset({16157, 15862, 25327}), frozenset({20784, 21563, 25387}), frozenset({3196, 4598, 25575}), frozenset({25736, 14659, 24958}), frozenset({14913, 25745, 14671}), frozenset({22609, 25795, 22604}), frozenset({4271, 6259, 25911}), frozenset({13311, 9693, 25943}), frozenset({24185, 24396, 25957}), frozenset({26130, 900, 26142}), frozenset({26312, 25500, 25429}), frozenset({11832, 26400, 10366}), frozenset({13608, 26494, 26367}), frozenset({26528, 26529, 26530}), frozenset({19385, 24113, 26567}), frozenset({14560, 24121, 26716}), frozenset({26720, 26910, 18615}), frozenset({26786, 26931, 26861}), frozenset({22483, 26972, 10103}), frozenset({27064, 16404, 15878}), frozenset({27120, 26987, 25267}), frozenset({11472, 27129, 26709}), frozenset({16568, 16597, 27261}), frozenset({16570, 1069, 27302}), frozenset({27323, 27308, 27339}), frozenset({20684, 2173, 27485}), frozenset({27536, 27441, 27556}), frozenset({320, 19412, 27568}), frozenset({27554, 27586, 27580}), frozenset({24800, 27594, 24803}), frozenset({20412, 27405, 27598}), frozenset({23248, 27705, 23250}), frozenset({27771, 2203, 9300}), frozenset({27811, 27804, 27805}), frozenset({16129, 27868, 6393}), frozenset({16976, 8005, 27877}), frozenset({27920, 8534, 8519}), frozenset({16844, 27932, 16839}), frozenset({20155, 28149, 28045}), frozenset({28162, 28155, 28156}), frozenset({23352, 23347, 28245}), frozenset({28344, 28345, 28325}), frozenset({28361, 28358, 17527}), frozenset({21740, 21181, 28415}), frozenset({28428, 28430, 28047}), frozenset({4640, 15118, 28439}), frozenset({12249, 28741, 7158}), frozenset({2042, 17862, 28751}), frozenset({28834, 28835, 28914}), frozenset({29155, 22276, 25030}), frozenset({2563, 2595, 29187}), frozenset({24881, 29259, 24903}), frozenset({19993, 24771, 29404}), frozenset({29474, 18317, 18319}), frozenset({29689, 26308, 26126}), frozenset({22424, 29179, 29715}), frozenset({29737, 26274, 23959}), frozenset({29273, 29747, 25121}), frozenset({25512, 25499, 29772}), frozenset({29097, 22428, 29775}), frozenset({14362, 24570, 29786}), frozenset({29832, 23114, 23326}), frozenset({21672, 29841, 29829}), frozenset({19912, 29860, 25637}), frozenset({29536, 29873, 27398}), frozenset({10056, 18298, 29875}), frozenset({29226, 29884, 25661}), frozenset({29396, 29900, 25455}), frozenset({29969, 22859, 19740}), frozenset({13416, 5982, 30023}), frozenset({22560, 23587, 30059}), frozenset({23501, 30081, 25837}), frozenset({9136, 4829, 30102}), frozenset({27876, 20381, 30141}), frozenset({23184, 25371, 30158}), frozenset({2660, 30222, 19023}), frozenset({6818, 30307, 7901}), frozenset({30019, 30309, 30318}), frozenset({16897, 30347, 27839}), frozenset({300, 285}), frozenset({738, 733}), frozenset({932, 1036}), frozenset({1089, 235}), frozenset({291, 1252}), frozenset({1432, 1095}), frozenset({2075, 2095}), frozenset({2129, 2079}), frozenset({328, 2130}), frozenset({2182, 295}), frozenset({2432, 227}), frozenset({2622, 2623}), frozenset({2848, 2851}), frozenset({2859, 2862}), frozenset({2867, 2847}), frozenset({2907, 2902}), frozenset({3090, 3100}), frozenset({3249, 2419}), frozenset({3382, 3342}), frozenset({3352, 3398}), frozenset({3617, 3628}), frozenset({2791, 3703}), frozenset({467, 3708}), frozenset({3801, 3731}), frozenset({3981, 3997}), frozenset({3675, 4142}), frozenset({3682, 4229}), frozenset({3503, 4343}), frozenset({4352, 4461}), frozenset({4586, 4587}), frozenset({2600, 4732}), frozenset({4755, 4756}), frozenset({4832, 4831}), frozenset({5296, 2979}), frozenset({5333, 2463}), frozenset({5433, 5428}), frozenset({5448, 5502}), frozenset({5592, 5689}), frozenset({5724, 5719}), frozenset({5752, 5749}), frozenset({6101, 6102}), frozenset({6144, 6155}), frozenset({6320, 6373}), frozenset({1860, 6454}), frozenset({6465, 6449}), frozenset({6490, 6463}), frozenset({6514, 6351}), frozenset({6565, 6575}), frozenset({6617, 6611}), frozenset({6620, 6583}), frozenset({5885, 6751}), frozenset({2026, 6859}), frozenset({6936, 6970}), frozenset({6992, 7102}), frozenset({7097, 7119}), frozenset({7120, 6938}), frozenset({7122, 7218}), frozenset({6768, 7224}), frozenset({7249, 7252}), frozenset({7262, 7263}), frozenset({4320, 7356}), frozenset({7428, 7436}), frozenset({4577, 7503}), frozenset({7542, 7479}), frozenset({7765, 7775}), frozenset({7801, 7802}), frozenset({7808, 7756}), frozenset({7818, 7795}), frozenset({8028, 8029}), frozenset({8161, 7271}), frozenset({8352, 4533}), frozenset({7048, 8401}), frozenset({8457, 8490}), frozenset({8524, 8541}), frozenset({7576, 8626}), frozenset({8761, 8765}), frozenset({8792, 8747}), frozenset({8803, 6124}), frozenset({8882, 8709}), frozenset({4929, 8933}), frozenset({8963, 8951}), frozenset({8968, 8930}), frozenset({2500, 9039}), frozenset({5051, 9052}), frozenset({9126, 4751}), frozenset({9117, 9141}), frozenset({9240, 1812}), frozenset({6248, 9315}), frozenset({7752, 9475}), frozenset({7760, 9476}), frozenset({9828, 9998}), frozenset({10042, 10030}), frozenset({10025, 10131}), frozenset({10234, 10227}), frozenset({10246, 10303}), frozenset({10233, 10319}), frozenset({10241, 10335}), frozenset({10400, 10433}), frozenset({10576, 2786}), frozenset({3705, 10583}), frozenset({4154, 10587}), frozenset({10629, 10630}), frozenset({10637, 10638}), frozenset({10172, 10727}), frozenset({10694, 10846}), frozenset({10922, 5703}), frozenset({11066, 11077}), frozenset({11321, 11285}), frozenset({4373, 11326}), frozenset({11136, 11363}), frozenset({11152, 11373}), frozenset({11297, 11405}), frozenset({11593, 11594}), frozenset({11622, 11623}), frozenset({11804, 2238}), frozenset({9946, 11851}), frozenset({11874, 11915}), frozenset({11939, 11934}), frozenset({12032, 281}), frozenset({12080, 12082}), frozenset({12090, 254}), frozenset({12120, 12115}), frozenset({12060, 12141}), frozenset({12214, 12215}), frozenset({12208, 12227}), frozenset({12332, 12437}), frozenset({12474, 4774}), frozenset({8912, 12679}), frozenset({12749, 12751}), frozenset({12746, 12795}), frozenset({12822, 12823}), frozenset({12553, 12925}), frozenset({12974, 13103}), frozenset({13152, 12265}), frozenset({9864, 13232}), frozenset({8012, 13238}), frozenset({13433, 4355}), frozenset({13523, 10237}), frozenset({13578, 5326}), frozenset({13754, 13596}), frozenset({13738, 13755}), frozenset({9679, 13807}), frozenset({13845, 5375}), frozenset({13913, 13916}), frozenset({13923, 13911}), frozenset({13883, 13987}), frozenset({14056, 12170}), frozenset({14089, 13949}), frozenset({14091, 9718}), frozenset({14218, 14211}), frozenset({5532, 14245}), frozenset({14299, 14311}), frozenset({14313, 14309}), frozenset({14398, 14495}), frozenset({14492, 14501}), frozenset({14507, 14549}), frozenset({10560, 14651}), frozenset({14680, 5717}), frozenset({14712, 14644}), frozenset({14770, 14764}), frozenset({5222, 14782}), frozenset({14841, 11842}), frozenset({14920, 14919}), frozenset({14956, 14949}), frozenset({15025, 15023}), frozenset({14283, 15071}), frozenset({15197, 15199}), frozenset({1900, 15316}), frozenset({8372, 15373}), frozenset({10272, 15480}), frozenset({15044, 15540}), frozenset({3696, 15644}), frozenset({15688, 1977}), frozenset({15690, 10151}), frozenset({15036, 15709}), frozenset({15794, 12589}), frozenset({15801, 15804}), frozenset({15908, 15909}), frozenset({16036, 3182}), frozenset({16059, 16055}), frozenset({7240, 16122}), frozenset({16308, 7085}), frozenset({16325, 16399}), frozenset({16266, 16418}), frozenset({16393, 16431}), frozenset({16443, 16445}), frozenset({16323, 16461}), frozenset({16499, 16503}), frozenset({16504, 16215}), frozenset({8448, 16524}), frozenset({10418, 16525}), frozenset({16322, 16548}), frozenset({16576, 942}), frozenset({14662, 16583}), frozenset({16593, 3244}), frozenset({16601, 12031}), frozenset({10109, 16606}), frozenset({16702, 16703}), frozenset({16780, 13407}), frozenset({16840, 16843}), frozenset({16864, 16862}), frozenset({16914, 9595}), frozenset({16964, 16974}), frozenset({16962, 16975}), frozenset({4138, 16988}), frozenset({17005, 16999}), frozenset({2368, 17103}), frozenset({15466, 17134}), frozenset({17236, 17221}), frozenset({17260, 4861}), frozenset({17280, 9226}), frozenset({17286, 17287}), frozenset({17413, 17414}), frozenset({17448, 17472}), frozenset({8262, 17542}), frozenset({16833, 17543}), frozenset({17586, 9700}), frozenset({12156, 17591}), frozenset({17683, 13220}), frozenset({17685, 17694}), frozenset({17688, 17695}), frozenset({2450, 17716}), frozenset({17720, 17719}), frozenset({13697, 17730}), frozenset({5224, 17763}), frozenset({17820, 17821}), frozenset({6272, 17885}), frozenset({9986, 17893}), frozenset({17963, 8543}), frozenset({17990, 15991}), frozenset({17968, 18006}), frozenset({17876, 18007}), frozenset({18092, 18093}), frozenset({12251, 18094}), frozenset({18132, 17870}), frozenset({18248, 14916}), frozenset({18379, 18381}), frozenset({18406, 18407}), frozenset({18489, 18478}), frozenset({13056, 18490}), frozenset({18499, 15516}), frozenset({13320, 18507}), frozenset({18556, 18557}), frozenset({17279, 18607}), frozenset({18609, 11911}), frozenset({18621, 18622}), frozenset({18624, 18669}), frozenset({18688, 18652}), frozenset({15552, 18825}), frozenset({15568, 18860}), frozenset({18826, 18875}), frozenset({18906, 6772}), frozenset({15387, 18943}), frozenset({16912, 18992}), frozenset({18993, 18788}), frozenset({16765, 18999}), frozenset({19005, 18974}), frozenset({19082, 7942}), frozenset({9339, 19110}), frozenset({14824, 19117}), frozenset({19195, 19198}), frozenset({19208, 19209}), frozenset({19232, 19230}), frozenset({13496, 19239}), frozenset({19329, 7683}), frozenset({19353, 19327}), frozenset({1961, 19453}), frozenset({19514, 2892}), frozenset({19521, 45}), frozenset({19617, 19588}), frozenset({19652, 19654}), frozenset({19844, 19822}), frozenset({10033, 19882}), frozenset({19985, 19814}), frozenset({20054, 20094}), frozenset({20096, 20022}), frozenset({20160, 20218}), frozenset({18716, 20229}), frozenset({3669, 20405}), frozenset({20560, 4147}), frozenset({20617, 20622}), frozenset({20474, 20676}), frozenset({10896, 20685}), frozenset({19408, 20769}), frozenset({20803, 9503}), frozenset({20640, 20810}), frozenset({20819, 20476}), frozenset({20786, 20911}), frozenset({20929, 20588}), frozenset({20701, 20933}), frozenset({20688, 21031}), frozenset({21240, 20841}), frozenset({21152, 21281}), frozenset({20654, 21358}), frozenset({3724, 21359}), frozenset({21371, 21413}), frozenset({21440, 20847}), frozenset({21388, 21445}), frozenset({20497, 21514}), frozenset({21570, 10860}), frozenset({21523, 21583}), frozenset({21618, 21626}), frozenset({4106, 21631}), frozenset({21666, 20395}), frozenset({21768, 21446}), frozenset({21204, 21797}), frozenset({21489, 21814}), frozenset({21856, 21854}), frozenset({21880, 21044}), frozenset({21930, 11267}), frozenset({21970, 11279}), frozenset({21986, 22043}), frozenset({21998, 22087}), frozenset({22096, 21983}), frozenset({22182, 22191}), frozenset({22253, 22254}), frozenset({252, 22262}), frozenset({22434, 22319}), frozenset({12009, 22454}), frozenset({22492, 22309}), frozenset({22500, 12046}), frozenset({8453, 22558}), frozenset({22611, 21310}), frozenset({12734, 22711}), frozenset({22763, 22771}), frozenset({20184, 22829}), frozenset({13125, 22887}), frozenset({22781, 22943}), frozenset({22972, 22983}), frozenset({22952, 23056}), frozenset({22715, 23060}), frozenset({18475, 23070}), frozenset({23187, 20031}), frozenset({23289, 23227}), frozenset({23416, 5345}), frozenset({23537, 23542}), frozenset({23579, 23559}), frozenset({23610, 23603}), frozenset({23617, 7780}), frozenset({14124, 23621}), frozenset({23643, 23613}), frozenset({2378, 23699}), frozenset({23715, 17118}), frozenset({23678, 23767}), frozenset({22779, 23787}), frozenset({17117, 23791}), frozenset({17219, 23795}), frozenset({23800, 14235}), frozenset({23801, 23718}), frozenset({23810, 5542}), frozenset({14266, 23815}), frozenset({14524, 23870}), frozenset({18136, 23899}), frozenset({24074, 21981}), frozenset({24120, 23948}), frozenset({24372, 24247}), frozenset({14528, 24523}), frozenset({14548, 24525}), frozenset({24533, 24199}), frozenset({24107, 24645}), frozenset({24648, 14587}), frozenset({24666, 24627}), frozenset({24674, 24293}), frozenset({21738, 24717}), frozenset({24882, 24883}), frozenset({24910, 24911}), frozenset({24841, 24924}), frozenset({24928, 10564}), frozenset({24812, 24943}), frozenset({24945, 24762}), frozenset({24986, 24982}), frozenset({10562, 25005}), frozenset({25058, 25060}), frozenset({25088, 25007}), frozenset({25128, 24723}), frozenset({25108, 25143}), frozenset({25176, 3148}), frozenset({25198, 25199}), frozenset({19520, 25255}), frozenset({21105, 25435}), frozenset({25573, 25574}), frozenset({25634, 25645}), frozenset({19428, 25845}), frozenset({20976, 25856}), frozenset({14152, 25875}), frozenset({25900, 25908}), frozenset({25913, 22187}), frozenset({1888, 26042}), frozenset({24136, 26047}), frozenset({26049, 26074}), frozenset({25906, 26154}), frozenset({26176, 15358}), frozenset({24680, 26216}), frozenset({26221, 25894}), frozenset({24149, 26223}), frozenset({24299, 26229}), frozenset({26242, 6567}), frozenset({26275, 15357}), frozenset({26281, 24735}), frozenset({26352, 26347}), frozenset({26345, 26355}), frozenset({20891, 26404}), frozenset({26425, 15453}), frozenset({26376, 26453}), frozenset({26426, 26483}), frozenset({26577, 23228}), frozenset({26600, 7706}), frozenset({23193, 26627}), frozenset({20266, 26638}), frozenset({15058, 26751}), frozenset({26897, 1203}), frozenset({27009, 1183}), frozenset({23576, 27078}), frozenset({27142, 22287}), frozenset({26874, 27143}), frozenset({27025, 27149}), frozenset({26379, 27183}), frozenset({20824, 27358}), frozenset({27406, 27239}), frozenset({16623, 27431}), frozenset({27434, 27252}), frozenset({27436, 27438}), frozenset({27281, 27463}), frozenset({21848, 27513}), frozenset({27537, 27293}), frozenset({27552, 27250}), frozenset({27579, 27396}), frozenset({27609, 27565}), frozenset({27257, 27617}), frozenset({19981, 27647}), frozenset({27651, 22495}), frozenset({27776, 27809}), frozenset({16858, 27812}), frozenset({3480, 27824}), frozenset({27874, 22084}), frozenset({17016, 27917}), frozenset({27944, 23655}), frozenset({28016, 28141}), frozenset({28145, 17039}), frozenset({27992, 28150}), frozenset({28177, 26622}), frozenset({20336, 28186}), frozenset({28274, 17487}), frozenset({28291, 28293}), frozenset({28270, 28302}), frozenset({28309, 28303}), frozenset({28364, 23453}), frozenset({23424, 28477}), frozenset({18115, 28485}), frozenset({3156, 28567}), frozenset({22421, 28639}), frozenset({5496, 28653}), frozenset({28737, 10739}), frozenset({18081, 28755}), frozenset({28819, 22175}), frozenset({19484, 29071}), frozenset({27506, 29174}), frozenset({21558, 29183}), frozenset({25552, 29208}), frozenset({29216, 24604}), frozenset({17196, 29244}), frozenset({29306, 4595}), frozenset({29419, 25719}), frozenset({18261, 29431}), frozenset({28945, 29441}), frozenset({29444, 28863}), frozenset({21232, 29491}), frozenset({27446, 29519}), frozenset({29533, 25046}), frozenset({29562, 14555}), frozenset({18258, 29565}), frozenset({29586, 27582}), frozenset({25744, 29589}), frozenset({24559, 29599}), frozenset({24016, 29615}), frozenset({20473, 29706}), frozenset({29356, 29741}), frozenset({29756, 23814}), frozenset({29800, 28782}), frozenset({25496, 29804}), frozenset({20059, 29820}), frozenset({29821, 27230}), frozenset({28907, 29836}), frozenset({29843, 18300}), frozenset({29876, 29229}), frozenset({23328, 29893}), frozenset({19848, 29899}), frozenset({21893, 29926}), frozenset({18416, 29951}), frozenset({29953, 29955}), frozenset({19676, 30095}), frozenset({30129, 23074}), frozenset({8337, 30130}), frozenset({30225, 30228}), frozenset({18931, 30260}), frozenset({30323, 9263}), frozenset({30348, 6710}), frozenset({30472, 23333})]\n"
     ]
    }
   ],
   "source": [
    "print(graph_data['1_resource_allocation_naive.pkl']['greedy_modularity']['communities'])"
   ]
  },
  {
   "cell_type": "code",
   "execution_count": 5,
   "metadata": {},
   "outputs": [
    {
     "data": {
      "text/plain": [
       "{'1_resource_allocation_naive.pkl_label_propagation': (0.8737346500459588,\n",
       "  array([0.60613804, 0.60535385, 0.60426188, 0.60483036, 0.60676335,\n",
       "         0.60426062, 0.60532236, 0.60487156, 0.60776975, 0.60489641,\n",
       "         0.60638725, 0.6050135 , 0.60571474, 0.60568094, 0.6051292 ,\n",
       "         0.60464862, 0.60606704, 0.6072429 , 0.60650308, 0.60553253,\n",
       "         0.60498317, 0.60537555, 0.60592282, 0.60715161, 0.60689941,\n",
       "         0.60466828, 0.60546323, 0.60820964, 0.60588959, 0.6059248 ,\n",
       "         0.60625018, 0.60745765, 0.6051964 , 0.60454642, 0.60719404,\n",
       "         0.60557402, 0.60334931, 0.60335247, 0.60481   , 0.60697097,\n",
       "         0.60535303, 0.60544416, 0.60514374, 0.60330657, 0.60481973,\n",
       "         0.60733227, 0.6056832 , 0.60551041, 0.6061658 , 0.60595574,\n",
       "         0.60417811, 0.60640297, 0.60598801, 0.60427681, 0.60498911,\n",
       "         0.6049375 , 0.60496823, 0.6037046 , 0.60492796, 0.60449449,\n",
       "         0.60669043, 0.60485866, 0.60726663, 0.6063833 , 0.60525496,\n",
       "         0.60487467, 0.60211144, 0.60639195, 0.60670355, 0.60212085,\n",
       "         0.60693785, 0.6059983 , 0.60652007, 0.60499415, 0.60594656,\n",
       "         0.60570195, 0.60593482, 0.60414891, 0.60519664, 0.60373417,\n",
       "         0.6071197 , 0.60787059, 0.60501706, 0.60629857, 0.60726678,\n",
       "         0.60613517, 0.60425925, 0.60549582, 0.60655589, 0.6047969 ,\n",
       "         0.60428333, 0.60439284, 0.60388364, 0.60635044, 0.60421169,\n",
       "         0.60502583, 0.60550144, 0.60447567, 0.60707365, 0.60498327]),\n",
       "  0.0),\n",
       " '1_resource_allocation_naive.pkl_Louvain': (0.9767292973368774,\n",
       "  array([0.60562876, 0.60533447, 0.60552116, 0.6057621 , 0.60432314,\n",
       "         0.60626014, 0.6046463 , 0.60658626, 0.60677222, 0.6063658 ,\n",
       "         0.60515952, 0.60505436, 0.60406749, 0.60725095, 0.60643842,\n",
       "         0.60581788, 0.60746455, 0.60453731, 0.60552118, 0.60603846,\n",
       "         0.60609822, 0.60569421, 0.60545007, 0.60684436, 0.60708699,\n",
       "         0.6071448 , 0.60509262, 0.6050271 , 0.60623458, 0.60422117,\n",
       "         0.60645411, 0.60510497, 0.60552019, 0.60533468, 0.60550902,\n",
       "         0.60693635, 0.60327943, 0.60410869, 0.605256  , 0.60449495,\n",
       "         0.60486927, 0.6052529 , 0.60580187, 0.60517264, 0.60586596,\n",
       "         0.60642834, 0.6032987 , 0.60549089, 0.60418107, 0.60846751,\n",
       "         0.60622298, 0.60523051, 0.60366279, 0.60510299, 0.60738484,\n",
       "         0.60577556, 0.60546142, 0.60522072, 0.6042132 , 0.6046792 ,\n",
       "         0.60607093, 0.60590363, 0.60685641, 0.60769067, 0.60525113,\n",
       "         0.6035464 , 0.60641278, 0.60618496, 0.60561808, 0.60438875,\n",
       "         0.60459664, 0.60465261, 0.60666896, 0.60512419, 0.60524356,\n",
       "         0.60655112, 0.6050918 , 0.60763621, 0.60620708, 0.60669248,\n",
       "         0.6057553 , 0.60492863, 0.60431727, 0.60834769, 0.60603116,\n",
       "         0.60570733, 0.6042218 , 0.6064072 , 0.60610372, 0.60518741,\n",
       "         0.60455903, 0.6049041 , 0.60414077, 0.6048772 , 0.60599185,\n",
       "         0.60493803, 0.60563761, 0.60503448, 0.60377773, 0.60571607]),\n",
       "  0.0)}"
      ]
     },
     "execution_count": 5,
     "metadata": {},
     "output_type": "execute_result"
    }
   ],
   "source": [
    "assortativity_null_tests = pickle.load(open(\"../data/null_tests/assortativity_tests_1.pkl\",\"rb\"))\n",
    "modularity_null_tests = pickle.load(open(\"../data/null_tests/modularity_tests_1.pkl\",\"rb\"))\n",
    "modularity_null_tests"
   ]
  },
  {
   "cell_type": "code",
   "execution_count": null,
   "metadata": {},
   "outputs": [],
   "source": [
    "def normalized_cut_size(G, S, T=None, weight=None):\n",
    "    if T is None:\n",
    "        T = set(G) - set(S)\n",
    "    num_cut_edges = nx.cut_size(G, S, T=T, weight=weight)\n",
    "    volume_S = nx.volume(G, S, weight=weight)\n",
    "    volume_T = nx.volume(G, T, weight=weight)\n",
    "    return num_cut_edges * ((1 / volume_S) + (1 / volume_T))"
   ]
  }
 ],
 "metadata": {
  "kernelspec": {
   "display_name": "Python 3",
   "language": "python",
   "name": "python3"
  },
  "language_info": {
   "codemirror_mode": {
    "name": "ipython",
    "version": 3
   },
   "file_extension": ".py",
   "mimetype": "text/x-python",
   "name": "python",
   "nbconvert_exporter": "python",
   "pygments_lexer": "ipython3",
   "version": "3.11.4"
  }
 },
 "nbformat": 4,
 "nbformat_minor": 2
}
