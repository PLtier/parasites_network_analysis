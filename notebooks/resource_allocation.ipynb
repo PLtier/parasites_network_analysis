{
 "cells": [
  {
   "cell_type": "code",
   "execution_count": 2,
   "metadata": {},
   "outputs": [],
   "source": [
    "import projection\n",
    "import networkx as nx\n",
    "import pandas as pd"
   ]
  },
  {
   "cell_type": "code",
   "execution_count": null,
   "metadata": {},
   "outputs": [],
   "source": [
    "G=nx.read_edgelist(\"data/edges.csv\",delimiter=\",\",nodetype=int)\n",
    "#get sets of nodes (animal, parasite)\n",
    "nodes = pd.read_csv(\"data/nodes.csv\",delimiter=\",\")\n",
    "animal_nodes = list(set(nodes[nodes[\" is_host\"]==1][\"# index\"]))\n",
    "parasite_nodes = list(set(nodes[nodes[\" is_host\"]==0][\"# index\"]))"
   ]
  },
  {
   "cell_type": "code",
   "execution_count": null,
   "metadata": {},
   "outputs": [],
   "source": [
    "# function is needed to convert graph to df for backboning (with predefined function)\n",
    "def graph_to_dataframe(graph):\n",
    "    edges = nx.to_pandas_edgelist(graph)\n",
    "    edges.rename(columns={'source': 'src', 'target': 'trg', 'weight': 'nij'}, inplace=True)\n",
    "    return edges"
   ]
  },
  {
   "cell_type": "code",
   "execution_count": null,
   "metadata": {},
   "outputs": [],
   "source": [
    "projected_network=projection.resource_allocation(G,animal_nodes)"
   ]
  }
 ],
 "metadata": {
  "kernelspec": {
   "display_name": "Python 3",
   "language": "python",
   "name": "python3"
  },
  "language_info": {
   "codemirror_mode": {
    "name": "ipython",
    "version": 3
   },
   "file_extension": ".py",
   "mimetype": "text/x-python",
   "name": "python",
   "nbconvert_exporter": "python",
   "pygments_lexer": "ipython3",
   "version": "3.11.4"
  }
 },
 "nbformat": 4,
 "nbformat_minor": 2
}
