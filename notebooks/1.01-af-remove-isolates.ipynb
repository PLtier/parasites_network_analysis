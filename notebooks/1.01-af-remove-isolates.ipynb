{
 "cells": [
  {
   "cell_type": "code",
   "execution_count": 1,
   "metadata": {},
   "outputs": [],
   "source": [
    "import pickle\n",
    "import os\n",
    "import networkx as nx"
   ]
  },
  {
   "cell_type": "code",
   "execution_count": 2,
   "metadata": {},
   "outputs": [],
   "source": [
    "def create_dict_of_pkl(folder):\n",
    "    ret = {}\n",
    "    for filename in os.listdir(folder):\n",
    "        if filename.endswith('.pkl'):\n",
    "            filepath = os.path.join(folder, filename)\n",
    "            with open(filepath, 'rb') as f:\n",
    "                o = pickle.load(f)\n",
    "                ret[filename] = o\n",
    "    return ret"
   ]
  },
  {
   "cell_type": "code",
   "execution_count": 5,
   "metadata": {},
   "outputs": [
    {
     "name": "stdout",
     "output_type": "stream",
     "text": [
      "Graph: 1_resource_allocation_naive.pkl, Nodes: 9213, Edges: 15588\n",
      "Graph: 1_simple_disparity_filter.pkl, Nodes: 16075, Edges: 443701\n",
      "Graph: 2_resource_allocation_naive.pkl, Nodes: 12770, Edges: 42691\n",
      "Graph: 2_simple_disparity_filter.pkl, Nodes: 14911, Edges: 336278\n"
     ]
    }
   ],
   "source": [
    "graphs = create_dict_of_pkl('../data/trimmed_networks_pkl')\n",
    "for graph_name, graph in graphs.items():\n",
    "    print(f\"Graph: {graph_name}, Nodes: {graph.number_of_nodes()}, Edges: {graph.number_of_edges()}\")\n"
   ]
  },
  {
   "cell_type": "code",
   "execution_count": 4,
   "metadata": {},
   "outputs": [],
   "source": [
    "for name,graph in graphs.items():\n",
    "    isolated_nodes = list(nx.isolates(graph))  # Find all isolated nodes\n",
    "    graph.remove_nodes_from(isolated_nodes)\n",
    "    pickle.dump(graph,open(f\"../data/trimmed_networks_pkl/{name}\",\"wb\"))"
   ]
  },
  {
   "cell_type": "markdown",
   "metadata": {},
   "source": [
    "# NOW ISOLATES ARE REMOVED XD"
   ]
  }
 ],
 "metadata": {
  "kernelspec": {
   "display_name": "Python 3",
   "language": "python",
   "name": "python3"
  },
  "language_info": {
   "codemirror_mode": {
    "name": "ipython",
    "version": 3
   },
   "file_extension": ".py",
   "mimetype": "text/x-python",
   "name": "python",
   "nbconvert_exporter": "python",
   "pygments_lexer": "ipython3",
   "version": "3.11.4"
  }
 },
 "nbformat": 4,
 "nbformat_minor": 2
}
