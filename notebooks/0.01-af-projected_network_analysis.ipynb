{
 "cells": [
  {
   "cell_type": "code",
   "execution_count": 2,
   "metadata": {},
   "outputs": [],
   "source": [
    "import networkx as nx\n",
    "import pandas as pd"
   ]
  },
  {
   "cell_type": "code",
   "execution_count": 4,
   "metadata": {},
   "outputs": [],
   "source": [
    "G=nx.read_edgelist(\"../data/edges.csv\",delimiter=\",\",nodetype=int)\n",
    "#get sets of nodes (animal, parasite)\n",
    "nodes = pd.read_csv(\"../data/nodes.csv\",delimiter=\",\")\n",
    "animal_nodes = list(set(nodes[nodes[\" is_host\"]==1][\"# index\"]))\n",
    "parasite_nodes = list(set(nodes[nodes[\" is_host\"]==0][\"# index\"]))"
   ]
  },
  {
   "cell_type": "code",
   "execution_count": 5,
   "metadata": {},
   "outputs": [
    {
     "data": {
      "text/plain": [
       "61597"
      ]
     },
     "execution_count": 5,
     "metadata": {},
     "output_type": "execute_result"
    }
   ],
   "source": [
    "len(G.edges())"
   ]
  },
  {
   "cell_type": "code",
   "execution_count": 9,
   "metadata": {},
   "outputs": [
    {
     "data": {
      "text/plain": [
       "<bound method DataFrame.nunique of           src    trg\n",
       "0           1  20929\n",
       "1           1  20656\n",
       "2           1  20552\n",
       "3           1  21874\n",
       "4           1  21669\n",
       "...       ...    ...\n",
       "598939  30465  30466\n",
       "598940  30466  30467\n",
       "598941  30470  30480\n",
       "598942  30491  30494\n",
       "598943  30513  30515\n",
       "\n",
       "[598944 rows x 2 columns]>"
      ]
     },
     "execution_count": 9,
     "metadata": {},
     "output_type": "execute_result"
    }
   ],
   "source": [
    "df_projected = pd.read_csv(\"../projections_with_backbonings/projection_parasites/simple_disparity_filter.csv\")\n",
    "df_projected[[\"src\",\"trg\"]].nunique"
   ]
  },
  {
   "cell_type": "code",
   "execution_count": 17,
   "metadata": {},
   "outputs": [
    {
     "data": {
      "text/plain": [
       "18643"
      ]
     },
     "execution_count": 17,
     "metadata": {},
     "output_type": "execute_result"
    }
   ],
   "source": [
    "len(parasite_nodes)"
   ]
  },
  {
   "cell_type": "code",
   "execution_count": 19,
   "metadata": {},
   "outputs": [],
   "source": [
    "simple_disparity_filter = pd.read_csv(\"../projections_with_backbonings/projection_parasites/simple_disparity_filter.csv\")\n",
    "nodes1=set(simple_disparity_filter[\"src\"])\n",
    "nodes2=set(simple_disparity_filter[\"trg\"])\n",
    "nodes = nodes1.union(nodes2)"
   ]
  },
  {
   "cell_type": "code",
   "execution_count": 20,
   "metadata": {},
   "outputs": [
    {
     "data": {
      "text/plain": [
       "17426"
      ]
     },
     "execution_count": 20,
     "metadata": {},
     "output_type": "execute_result"
    }
   ],
   "source": [
    "len(nodes)"
   ]
  },
  {
   "cell_type": "code",
   "execution_count": 3,
   "metadata": {},
   "outputs": [],
   "source": [
    "G=nx.read_edgelist(\"../data/edges.csv\",delimiter=\",\",nodetype=int)\n",
    "#get sets of nodes (animal, parasite)\n",
    "nodes = pd.read_csv(\"../data/nodes.csv\",delimiter=\",\")\n",
    "animal_nodes = list(set(nodes[nodes[\" is_host\"]==1][\"# index\"]))\n",
    "parasite_nodes = list(set(nodes[nodes[\" is_host\"]==0][\"# index\"]))"
   ]
  },
  {
   "cell_type": "code",
   "execution_count": null,
   "metadata": {},
   "outputs": [],
   "source": [
    "# function is needed to convert graph to df for backboning (with predefined function)\n",
    "def graph_to_dataframe(graph):\n",
    "    edges = nx.to_pandas_edgelist(graph)\n",
    "    edges.rename(columns={'source': 'src', 'target': 'trg', 'weight': 'nij'}, inplace=True)\n",
    "    return edges"
   ]
  },
  {
   "cell_type": "code",
   "execution_count": null,
   "metadata": {},
   "outputs": [],
   "source": [
    "projected_network=projection.resource_allocation(G,animal_nodes)"
   ]
  }
 ],
 "metadata": {
  "kernelspec": {
   "display_name": "Python 3",
   "language": "python",
   "name": "python3"
  },
  "language_info": {
   "codemirror_mode": {
    "name": "ipython",
    "version": 3
   },
   "file_extension": ".py",
   "mimetype": "text/x-python",
   "name": "python",
   "nbconvert_exporter": "python",
   "pygments_lexer": "ipython3",
   "version": "3.11.4"
  }
 },
 "nbformat": 4,
 "nbformat_minor": 2
}
