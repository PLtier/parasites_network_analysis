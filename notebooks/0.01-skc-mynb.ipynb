{
 "cells": [
  {
   "cell_type": "code",
   "execution_count": 16,
   "metadata": {},
   "outputs": [],
   "source": [
    "import pandas as pd\n",
    "import networkx as nx\n",
    "import pickle\n",
    "import os"
   ]
  },
  {
   "cell_type": "code",
   "execution_count": null,
   "metadata": {},
   "outputs": [
    {
     "name": "stdout",
     "output_type": "stream",
     "text": [
      "Number of connected components: 1591\n"
     ]
    }
   ],
   "source": [
    "\n",
    "\n",
    "# Create a graph\n",
    "G = nx.read_edgelist(\"../data/edges.csv\", delimiter=\",\", nodetype=int)\n",
    "\n",
    "# Find the number of connected components\n",
    "num_connected_components = nx.number_connected_components(G)\n",
    "\n",
    "print(\"Number of connected components:\", num_connected_components)\n"
   ]
  },
  {
   "cell_type": "code",
   "execution_count": 17,
   "metadata": {},
   "outputs": [
    {
     "name": "stdout",
     "output_type": "stream",
     "text": [
      "2_resource_allocation_naive.pkl 6528\n",
      "2_simple_disparity_filter.pkl 3775\n",
      "1_simple_disparity_filter.pkl 2653\n",
      "1_resource_allocation_naive.pkl 10590\n"
     ]
    }
   ],
   "source": [
    "files = os.listdir(\"../data/trimmed_networks_pkl\")\n",
    "\n",
    "for i in files:\n",
    "    num_connected_components = nx.number_connected_components(pickle.load(open(\"../data/trimmed_networks_pkl/\" + i, \"rb\")))\n",
    "    print(i, num_connected_components)"
   ]
  },
  {
   "cell_type": "code",
   "execution_count": null,
   "metadata": {},
   "outputs": [],
   "source": [
    "df = "
   ]
  }
 ],
 "metadata": {
  "kernelspec": {
   "display_name": "my_project_env",
   "language": "python",
   "name": "python3"
  },
  "language_info": {
   "codemirror_mode": {
    "name": "ipython",
    "version": 3
   },
   "file_extension": ".py",
   "mimetype": "text/x-python",
   "name": "python",
   "nbconvert_exporter": "python",
   "pygments_lexer": "ipython3",
   "version": "3.11.10"
  }
 },
 "nbformat": 4,
 "nbformat_minor": 2
}
